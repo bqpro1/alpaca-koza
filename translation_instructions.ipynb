{
  "cells": [
    {
      "cell_type": "markdown",
      "metadata": {
        "id": "view-in-github",
        "colab_type": "text"
      },
      "source": [
        "<a href=\"https://colab.research.google.com/github/bqpro1/alpaca-koza/blob/main/translation_instructions.ipynb\" target=\"_parent\"><img src=\"https://colab.research.google.com/assets/colab-badge.svg\" alt=\"Open In Colab\"/></a>"
      ]
    },
    {
      "cell_type": "markdown",
      "metadata": {
        "id": "NhIp82CnsBMf"
      },
      "source": [
        "### Translation en2pl of the original instructions for Alpaca model.\n",
        "🐐🌲 Alpaca-KOZA 🌲🐐"
      ]
    },
    {
      "cell_type": "code",
      "source": [
        "! pip install transformers\n",
        "! pip install sentencepiece"
      ],
      "metadata": {
        "id": "3Eqh3xReshei"
      },
      "execution_count": null,
      "outputs": []
    },
    {
      "cell_type": "code",
      "execution_count": 2,
      "metadata": {
        "id": "Y_J3ef72sBMh"
      },
      "outputs": [],
      "source": [
        "import json\n",
        "from tqdm import tqdm\n",
        "from transformers import AutoTokenizer, AutoModelForSeq2SeqLM, pipeline"
      ]
    },
    {
      "cell_type": "code",
      "execution_count": null,
      "metadata": {
        "id": "7XQwik5xsBMi"
      },
      "outputs": [],
      "source": [
        "alpaca_original_data = json.load(open(\"data/alpaca_data.json\", \"r\"))\n",
        "tokenizer = AutoTokenizer.from_pretrained(\"gsarti/opus-mt-tc-en-pl\")\n",
        "model = AutoModelForSeq2SeqLM.from_pretrained(\"gsarti/opus-mt-tc-en-pl\")"
      ]
    },
    {
      "cell_type": "code",
      "execution_count": 4,
      "metadata": {
        "id": "axlNMg7lsBMi"
      },
      "outputs": [],
      "source": [
        "translator = pipeline(\"translation_EN_to_PL\", model=model, tokenizer=tokenizer, max_length=1024)"
      ]
    },
    {
      "cell_type": "code",
      "execution_count": null,
      "metadata": {
        "id": "bCk9HDEjsBMi"
      },
      "outputs": [],
      "source": [
        "alpaca_polish_data = []\n",
        "for conversation in tqdm(alpaca_original_data):\n",
        "    conv_pl = dict()\n",
        "    \n",
        "    try:\n",
        "        if any(conversation[\"input\"]):\n",
        "    \n",
        "            conv_inst = conversation[\"instruction\"]\n",
        "            conv_input = conversation[\"input\"]\n",
        "            conv_output = conversation[\"output\"]\n",
        "\n",
        "            \n",
        "    \n",
        "            conv_pl[\"instruction\"] = translator(conv_inst)[0][\"translation_text\"]\n",
        "            conv_pl[\"input\"] = translator(conv_input)[0][\"translation_text\"]\n",
        "            conv_pl[\"output\"] = translator(conv_output)[0][\"translation_text\"]\n",
        "        else:\n",
        "            conv_inst = conversation[\"instruction\"]\n",
        "            conv_output = conversation[\"output\"]\n",
        "\n",
        "            conv_pl[\"instruction\"] = translator(conv_inst)[0][\"translation_text\"]\n",
        "            conv_pl[\"input\"] = \"\"\n",
        "            conv_pl[\"output\"] = translator(conv_output)[0][\"translation_text\"]\n",
        "    except Exception as e:\n",
        "         print(e)\n",
        "    alpaca_polish_data.append(conv_pl)"
      ]
    },
    {
      "cell_type": "code",
      "execution_count": null,
      "metadata": {
        "id": "ivVPRXH9sBMi"
      },
      "outputs": [],
      "source": [
        "verified_alpaca_data = []\n",
        "i = 0\n",
        "for row in tqdm(alpaca_polish_data):\n",
        "    if row.get(\"instruction\") and row.get(\"output\"):\n",
        "        verified_alpaca_data.append(row)\n",
        "    else:\n",
        "        print(row)\n",
        "        i += 1\n",
        "print(i)"
      ]
    },
    {
      "cell_type": "code",
      "execution_count": null,
      "metadata": {
        "id": "q0TVxkf6sBMj"
      },
      "outputs": [],
      "source": [
        "len(verified_alpaca_data)\n",
        "json.dump(verified_alpaca_data, open(\"data/alpaca_data_pl_verified.json\", \"w\"))"
      ]
    }
  ],
  "metadata": {
    "kernelspec": {
      "display_name": "torch",
      "language": "python",
      "name": "python3"
    },
    "language_info": {
      "codemirror_mode": {
        "name": "ipython",
        "version": 3
      },
      "file_extension": ".py",
      "mimetype": "text/x-python",
      "name": "python",
      "nbconvert_exporter": "python",
      "pygments_lexer": "ipython3",
      "version": "3.9.16"
    },
    "orig_nbformat": 4,
    "colab": {
      "provenance": [],
      "include_colab_link": true
    }
  },
  "nbformat": 4,
  "nbformat_minor": 0
}