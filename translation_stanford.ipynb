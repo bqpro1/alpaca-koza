{
 "cells": [
  {
   "attachments": {},
   "cell_type": "markdown",
   "metadata": {},
   "source": [
    "### Translation en2pl of the original instructions for Alpaca model.\n",
    "🐐🌲 Alpaca-KOZA 🌲🐐"
   ]
  },
  {
   "cell_type": "code",
   "execution_count": 1,
   "metadata": {},
   "outputs": [
    {
     "name": "stderr",
     "output_type": "stream",
     "text": [
      "/home/leszek/anaconda3/envs/torch/lib/python3.9/site-packages/tqdm/auto.py:21: TqdmWarning: IProgress not found. Please update jupyter and ipywidgets. See https://ipywidgets.readthedocs.io/en/stable/user_install.html\n",
      "  from .autonotebook import tqdm as notebook_tqdm\n"
     ]
    }
   ],
   "source": [
    "import json\n",
    "from tqdm import tqdm\n",
    "from transformers import AutoTokenizer, AutoModelForSeq2SeqLM, pipeline"
   ]
  },
  {
   "cell_type": "code",
   "execution_count": 2,
   "metadata": {},
   "outputs": [],
   "source": [
    "alpaca_original_data = json.load(open(\"data/alpaca_data.json\", \"r\"))\n",
    "tokenizer = AutoTokenizer.from_pretrained(\"gsarti/opus-mt-tc-en-pl\")\n",
    "model = AutoModelForSeq2SeqLM.from_pretrained(\"gsarti/opus-mt-tc-en-pl\")"
   ]
  },
  {
   "cell_type": "code",
   "execution_count": 3,
   "metadata": {},
   "outputs": [],
   "source": [
    "translator = pipeline(\"translation_EN_to_PL\", model=model, tokenizer=tokenizer, max_length=1024)"
   ]
  },
  {
   "cell_type": "code",
   "execution_count": 6,
   "metadata": {},
   "outputs": [
    {
     "name": "stderr",
     "output_type": "stream",
     "text": [
      "  1%|          | 622/52002 [09:57<41:30:38,  2.91s/it]"
     ]
    },
    {
     "name": "stdout",
     "output_type": "stream",
     "text": [
      "index out of range in self\n"
     ]
    },
    {
     "name": "stderr",
     "output_type": "stream",
     "text": [
      "  1%|          | 641/52002 [10:21<45:16:10,  3.17s/it]"
     ]
    },
    {
     "name": "stdout",
     "output_type": "stream",
     "text": [
      "index out of range in self\n"
     ]
    },
    {
     "name": "stderr",
     "output_type": "stream",
     "text": [
      "  1%|          | 649/52002 [10:37<48:39:01,  3.41s/it]"
     ]
    },
    {
     "name": "stdout",
     "output_type": "stream",
     "text": [
      "index out of range in self\n"
     ]
    },
    {
     "name": "stderr",
     "output_type": "stream",
     "text": [
      "  1%|▏         | 712/52002 [12:01<51:31:43,  3.62s/it]"
     ]
    },
    {
     "name": "stdout",
     "output_type": "stream",
     "text": [
      "index out of range in self\n"
     ]
    },
    {
     "name": "stderr",
     "output_type": "stream",
     "text": [
      "  2%|▏         | 1228/52002 [19:53<41:25:02,  2.94s/it]"
     ]
    },
    {
     "name": "stdout",
     "output_type": "stream",
     "text": [
      "index out of range in self\n"
     ]
    },
    {
     "name": "stderr",
     "output_type": "stream",
     "text": [
      "  3%|▎         | 1476/52002 [23:41<39:17:14,  2.80s/it]"
     ]
    },
    {
     "name": "stdout",
     "output_type": "stream",
     "text": [
      "index out of range in self\n"
     ]
    },
    {
     "name": "stderr",
     "output_type": "stream",
     "text": [
      "  3%|▎         | 1614/52002 [26:14<54:25:23,  3.89s/it]"
     ]
    },
    {
     "name": "stdout",
     "output_type": "stream",
     "text": [
      "index out of range in self\n"
     ]
    },
    {
     "name": "stderr",
     "output_type": "stream",
     "text": [
      "  3%|▎         | 1692/52002 [27:35<38:55:41,  2.79s/it]"
     ]
    },
    {
     "name": "stdout",
     "output_type": "stream",
     "text": [
      "index out of range in self\n"
     ]
    },
    {
     "name": "stderr",
     "output_type": "stream",
     "text": [
      "  3%|▎         | 1708/52002 [28:02<42:31:07,  3.04s/it]"
     ]
    },
    {
     "name": "stdout",
     "output_type": "stream",
     "text": [
      "index out of range in self\n"
     ]
    },
    {
     "name": "stderr",
     "output_type": "stream",
     "text": [
      "  4%|▍         | 2137/52002 [34:49<42:55:12,  3.10s/it]"
     ]
    },
    {
     "name": "stdout",
     "output_type": "stream",
     "text": [
      "index out of range in self\n"
     ]
    },
    {
     "name": "stderr",
     "output_type": "stream",
     "text": [
      "  4%|▍         | 2141/52002 [34:58<45:28:10,  3.28s/it]"
     ]
    },
    {
     "name": "stdout",
     "output_type": "stream",
     "text": [
      "index out of range in self\n"
     ]
    },
    {
     "name": "stderr",
     "output_type": "stream",
     "text": [
      "  4%|▍         | 2182/52002 [35:35<39:34:27,  2.86s/it]"
     ]
    },
    {
     "name": "stdout",
     "output_type": "stream",
     "text": [
      "index out of range in self\n"
     ]
    },
    {
     "name": "stderr",
     "output_type": "stream",
     "text": [
      "  4%|▍         | 2209/52002 [36:02<39:00:49,  2.82s/it]"
     ]
    },
    {
     "name": "stdout",
     "output_type": "stream",
     "text": [
      "index out of range in self\n"
     ]
    },
    {
     "name": "stderr",
     "output_type": "stream",
     "text": [
      "  5%|▍         | 2594/52002 [41:53<47:51:47,  3.49s/it]"
     ]
    },
    {
     "name": "stdout",
     "output_type": "stream",
     "text": [
      "index out of range in self\n"
     ]
    },
    {
     "name": "stderr",
     "output_type": "stream",
     "text": [
      "  6%|▌         | 2967/52002 [47:54<44:25:16,  3.26s/it]"
     ]
    },
    {
     "name": "stdout",
     "output_type": "stream",
     "text": [
      "index out of range in self\n"
     ]
    },
    {
     "name": "stderr",
     "output_type": "stream",
     "text": [
      "  6%|▌         | 3127/52002 [50:27<36:19:03,  2.68s/it]"
     ]
    },
    {
     "name": "stdout",
     "output_type": "stream",
     "text": [
      "index out of range in self\n"
     ]
    },
    {
     "name": "stderr",
     "output_type": "stream",
     "text": [
      "  6%|▋         | 3256/52002 [52:36<45:28:19,  3.36s/it]"
     ]
    },
    {
     "name": "stdout",
     "output_type": "stream",
     "text": [
      "index out of range in self\n"
     ]
    },
    {
     "name": "stderr",
     "output_type": "stream",
     "text": [
      "  6%|▋         | 3371/52002 [54:53<47:21:06,  3.51s/it]"
     ]
    },
    {
     "name": "stdout",
     "output_type": "stream",
     "text": [
      "index out of range in self\n"
     ]
    },
    {
     "name": "stderr",
     "output_type": "stream",
     "text": [
      "  9%|▉         | 4738/52002 [1:17:03<37:00:14,  2.82s/it]"
     ]
    },
    {
     "name": "stdout",
     "output_type": "stream",
     "text": [
      "index out of range in self\n"
     ]
    },
    {
     "name": "stderr",
     "output_type": "stream",
     "text": [
      " 10%|▉         | 5135/52002 [1:23:53<41:57:56,  3.22s/it]"
     ]
    },
    {
     "name": "stdout",
     "output_type": "stream",
     "text": [
      "index out of range in self\n"
     ]
    },
    {
     "name": "stderr",
     "output_type": "stream",
     "text": [
      " 10%|▉         | 5136/52002 [1:24:01<60:01:10,  4.61s/it]"
     ]
    },
    {
     "name": "stdout",
     "output_type": "stream",
     "text": [
      "index out of range in self\n"
     ]
    },
    {
     "name": "stderr",
     "output_type": "stream",
     "text": [
      " 12%|█▏        | 6225/52002 [1:41:43<11:07:48,  1.14it/s]Token indices sequence length is longer than the specified maximum sequence length for this model (597 > 512). Running this sequence through the model will result in indexing errors\n",
      " 12%|█▏        | 6226/52002 [1:41:43<8:37:20,  1.47it/s] "
     ]
    },
    {
     "name": "stdout",
     "output_type": "stream",
     "text": [
      "index out of range in self\n"
     ]
    },
    {
     "name": "stderr",
     "output_type": "stream",
     "text": [
      " 12%|█▏        | 6285/52002 [1:42:43<18:17:57,  1.44s/it]Your input_length: 972 is bigger than 0.9 * max_length: 1024. You might consider increasing your max_length manually, e.g. translator('...', max_length=400)\n",
      " 12%|█▏        | 6286/52002 [1:42:43<13:55:46,  1.10s/it]"
     ]
    },
    {
     "name": "stdout",
     "output_type": "stream",
     "text": [
      "index out of range in self\n"
     ]
    },
    {
     "name": "stderr",
     "output_type": "stream",
     "text": [
      " 12%|█▏        | 6464/52002 [1:45:54<44:04:01,  3.48s/it]"
     ]
    },
    {
     "name": "stdout",
     "output_type": "stream",
     "text": [
      "index out of range in self\n"
     ]
    },
    {
     "name": "stderr",
     "output_type": "stream",
     "text": [
      " 13%|█▎        | 6677/52002 [1:49:32<14:47:14,  1.17s/it]"
     ]
    },
    {
     "name": "stdout",
     "output_type": "stream",
     "text": [
      "index out of range in self\n"
     ]
    },
    {
     "name": "stderr",
     "output_type": "stream",
     "text": [
      " 13%|█▎        | 6756/52002 [1:50:48<42:16:26,  3.36s/it]"
     ]
    },
    {
     "name": "stdout",
     "output_type": "stream",
     "text": [
      "index out of range in self\n"
     ]
    },
    {
     "name": "stderr",
     "output_type": "stream",
     "text": [
      " 13%|█▎        | 6918/52002 [1:53:44<40:10:46,  3.21s/it]"
     ]
    },
    {
     "name": "stdout",
     "output_type": "stream",
     "text": [
      "index out of range in self\n"
     ]
    },
    {
     "name": "stderr",
     "output_type": "stream",
     "text": [
      " 13%|█▎        | 6985/52002 [1:55:10<44:59:55,  3.60s/it]"
     ]
    },
    {
     "name": "stdout",
     "output_type": "stream",
     "text": [
      "index out of range in self\n"
     ]
    },
    {
     "name": "stderr",
     "output_type": "stream",
     "text": [
      " 14%|█▎        | 7105/52002 [1:57:19<37:49:31,  3.03s/it]"
     ]
    },
    {
     "name": "stdout",
     "output_type": "stream",
     "text": [
      "index out of range in self\n"
     ]
    },
    {
     "name": "stderr",
     "output_type": "stream",
     "text": [
      " 14%|█▍        | 7378/52002 [2:02:21<44:35:27,  3.60s/it]"
     ]
    },
    {
     "name": "stdout",
     "output_type": "stream",
     "text": [
      "index out of range in self\n"
     ]
    },
    {
     "name": "stderr",
     "output_type": "stream",
     "text": [
      " 14%|█▍        | 7467/52002 [2:04:11<34:21:58,  2.78s/it]"
     ]
    },
    {
     "name": "stdout",
     "output_type": "stream",
     "text": [
      "index out of range in self\n"
     ]
    },
    {
     "name": "stderr",
     "output_type": "stream",
     "text": [
      " 15%|█▍        | 7555/52002 [2:05:46<39:58:31,  3.24s/it]"
     ]
    },
    {
     "name": "stdout",
     "output_type": "stream",
     "text": [
      "index out of range in self\n"
     ]
    },
    {
     "name": "stderr",
     "output_type": "stream",
     "text": [
      " 15%|█▌        | 7938/52002 [2:12:18<34:10:30,  2.79s/it]"
     ]
    },
    {
     "name": "stdout",
     "output_type": "stream",
     "text": [
      "index out of range in self\n"
     ]
    },
    {
     "name": "stderr",
     "output_type": "stream",
     "text": [
      " 15%|█▌        | 8031/52002 [2:14:03<36:40:00,  3.00s/it]"
     ]
    },
    {
     "name": "stdout",
     "output_type": "stream",
     "text": [
      "index out of range in self\n"
     ]
    },
    {
     "name": "stderr",
     "output_type": "stream",
     "text": [
      " 16%|█▌        | 8123/52002 [2:15:34<39:14:40,  3.22s/it]"
     ]
    },
    {
     "name": "stdout",
     "output_type": "stream",
     "text": [
      "index out of range in self\n"
     ]
    },
    {
     "name": "stderr",
     "output_type": "stream",
     "text": [
      " 17%|█▋        | 8619/52002 [2:24:20<40:57:28,  3.40s/it]"
     ]
    },
    {
     "name": "stdout",
     "output_type": "stream",
     "text": [
      "index out of range in self\n"
     ]
    },
    {
     "name": "stderr",
     "output_type": "stream",
     "text": [
      " 17%|█▋        | 8761/52002 [2:26:51<38:57:04,  3.24s/it]"
     ]
    },
    {
     "name": "stdout",
     "output_type": "stream",
     "text": [
      "index out of range in self\n"
     ]
    },
    {
     "name": "stderr",
     "output_type": "stream",
     "text": [
      " 17%|█▋        | 9040/52002 [2:31:02<40:35:08,  3.40s/it]"
     ]
    },
    {
     "name": "stdout",
     "output_type": "stream",
     "text": [
      "index out of range in self\n"
     ]
    },
    {
     "name": "stderr",
     "output_type": "stream",
     "text": [
      " 17%|█▋        | 9067/52002 [2:31:22<7:30:22,  1.59it/s] "
     ]
    },
    {
     "name": "stdout",
     "output_type": "stream",
     "text": [
      "index out of range in self\n"
     ]
    },
    {
     "name": "stderr",
     "output_type": "stream",
     "text": [
      " 18%|█▊        | 9233/52002 [2:34:11<37:44:13,  3.18s/it]"
     ]
    },
    {
     "name": "stdout",
     "output_type": "stream",
     "text": [
      "index out of range in self\n"
     ]
    },
    {
     "name": "stderr",
     "output_type": "stream",
     "text": [
      " 18%|█▊        | 9366/52002 [2:36:21<35:47:16,  3.02s/it]"
     ]
    },
    {
     "name": "stdout",
     "output_type": "stream",
     "text": [
      "index out of range in self\n"
     ]
    },
    {
     "name": "stderr",
     "output_type": "stream",
     "text": [
      " 18%|█▊        | 9506/52002 [2:38:20<37:06:38,  3.14s/it]"
     ]
    },
    {
     "name": "stdout",
     "output_type": "stream",
     "text": [
      "index out of range in self\n"
     ]
    },
    {
     "name": "stderr",
     "output_type": "stream",
     "text": [
      " 19%|█▊        | 9745/52002 [2:43:06<36:13:53,  3.09s/it]"
     ]
    },
    {
     "name": "stdout",
     "output_type": "stream",
     "text": [
      "index out of range in self\n"
     ]
    },
    {
     "name": "stderr",
     "output_type": "stream",
     "text": [
      " 19%|█▉        | 9834/52002 [2:44:57<34:38:43,  2.96s/it]"
     ]
    },
    {
     "name": "stdout",
     "output_type": "stream",
     "text": [
      "index out of range in self\n"
     ]
    },
    {
     "name": "stderr",
     "output_type": "stream",
     "text": [
      " 20%|█▉        | 10230/52002 [2:51:34<38:12:19,  3.29s/it]"
     ]
    },
    {
     "name": "stdout",
     "output_type": "stream",
     "text": [
      "index out of range in self\n"
     ]
    },
    {
     "name": "stderr",
     "output_type": "stream",
     "text": [
      " 20%|█▉        | 10355/52002 [2:53:49<36:53:54,  3.19s/it]"
     ]
    },
    {
     "name": "stdout",
     "output_type": "stream",
     "text": [
      "index out of range in self\n"
     ]
    },
    {
     "name": "stderr",
     "output_type": "stream",
     "text": [
      " 20%|██        | 10565/52002 [2:57:11<32:19:34,  2.81s/it]"
     ]
    },
    {
     "name": "stdout",
     "output_type": "stream",
     "text": [
      "index out of range in self\n"
     ]
    },
    {
     "name": "stderr",
     "output_type": "stream",
     "text": [
      " 20%|██        | 10569/52002 [2:57:23<40:54:54,  3.55s/it]"
     ]
    },
    {
     "name": "stdout",
     "output_type": "stream",
     "text": [
      "index out of range in self\n"
     ]
    },
    {
     "name": "stderr",
     "output_type": "stream",
     "text": [
      " 21%|██▏       | 11141/52002 [3:07:23<41:52:45,  3.69s/it]"
     ]
    },
    {
     "name": "stdout",
     "output_type": "stream",
     "text": [
      "index out of range in self\n"
     ]
    },
    {
     "name": "stderr",
     "output_type": "stream",
     "text": [
      " 21%|██▏       | 11164/52002 [3:07:53<40:26:35,  3.57s/it]"
     ]
    },
    {
     "name": "stdout",
     "output_type": "stream",
     "text": [
      "index out of range in self\n"
     ]
    },
    {
     "name": "stderr",
     "output_type": "stream",
     "text": [
      " 22%|██▏       | 11215/52002 [3:08:47<9:15:28,  1.22it/s] "
     ]
    },
    {
     "name": "stdout",
     "output_type": "stream",
     "text": [
      "index out of range in self\n"
     ]
    },
    {
     "name": "stderr",
     "output_type": "stream",
     "text": [
      " 22%|██▏       | 11317/52002 [3:10:51<34:54:09,  3.09s/it]"
     ]
    },
    {
     "name": "stdout",
     "output_type": "stream",
     "text": [
      "index out of range in self\n"
     ]
    },
    {
     "name": "stderr",
     "output_type": "stream",
     "text": [
      " 23%|██▎       | 12081/52002 [3:23:34<14:25:52,  1.30s/it]"
     ]
    },
    {
     "name": "stdout",
     "output_type": "stream",
     "text": [
      "index out of range in self\n"
     ]
    },
    {
     "name": "stderr",
     "output_type": "stream",
     "text": [
      " 23%|██▎       | 12181/52002 [3:25:21<40:39:03,  3.68s/it]"
     ]
    },
    {
     "name": "stdout",
     "output_type": "stream",
     "text": [
      "index out of range in self\n"
     ]
    },
    {
     "name": "stderr",
     "output_type": "stream",
     "text": [
      " 26%|██▌       | 13478/52002 [3:47:09<32:05:14,  3.00s/it]"
     ]
    },
    {
     "name": "stdout",
     "output_type": "stream",
     "text": [
      "index out of range in self\n"
     ]
    },
    {
     "name": "stderr",
     "output_type": "stream",
     "text": [
      " 27%|██▋       | 13868/52002 [3:53:50<29:39:23,  2.80s/it]"
     ]
    },
    {
     "name": "stdout",
     "output_type": "stream",
     "text": [
      "index out of range in self\n"
     ]
    },
    {
     "name": "stderr",
     "output_type": "stream",
     "text": [
      " 27%|██▋       | 13931/52002 [3:54:47<8:47:07,  1.20it/s] "
     ]
    },
    {
     "name": "stdout",
     "output_type": "stream",
     "text": [
      "index out of range in self\n"
     ]
    },
    {
     "name": "stderr",
     "output_type": "stream",
     "text": [
      " 27%|██▋       | 13938/52002 [3:55:03<34:02:32,  3.22s/it]"
     ]
    },
    {
     "name": "stdout",
     "output_type": "stream",
     "text": [
      "index out of range in self\n"
     ]
    },
    {
     "name": "stderr",
     "output_type": "stream",
     "text": [
      " 27%|██▋       | 13942/52002 [3:55:16<41:50:03,  3.96s/it]"
     ]
    },
    {
     "name": "stdout",
     "output_type": "stream",
     "text": [
      "index out of range in self\n"
     ]
    },
    {
     "name": "stderr",
     "output_type": "stream",
     "text": [
      " 27%|██▋       | 13975/52002 [3:55:46<10:12:30,  1.03it/s]"
     ]
    },
    {
     "name": "stdout",
     "output_type": "stream",
     "text": [
      "index out of range in self\n"
     ]
    },
    {
     "name": "stderr",
     "output_type": "stream",
     "text": [
      " 27%|██▋       | 14085/52002 [3:57:58<35:57:23,  3.41s/it]"
     ]
    },
    {
     "name": "stdout",
     "output_type": "stream",
     "text": [
      "index out of range in self\n"
     ]
    },
    {
     "name": "stderr",
     "output_type": "stream",
     "text": [
      " 27%|██▋       | 14249/52002 [4:01:05<30:46:10,  2.93s/it]"
     ]
    },
    {
     "name": "stdout",
     "output_type": "stream",
     "text": [
      "index out of range in self\n"
     ]
    },
    {
     "name": "stderr",
     "output_type": "stream",
     "text": [
      " 28%|██▊       | 14454/52002 [4:04:04<32:38:27,  3.13s/it]"
     ]
    },
    {
     "name": "stdout",
     "output_type": "stream",
     "text": [
      "index out of range in self\n"
     ]
    },
    {
     "name": "stderr",
     "output_type": "stream",
     "text": [
      " 28%|██▊       | 14640/52002 [4:07:23<32:11:38,  3.10s/it]"
     ]
    },
    {
     "name": "stdout",
     "output_type": "stream",
     "text": [
      "index out of range in self\n"
     ]
    },
    {
     "name": "stderr",
     "output_type": "stream",
     "text": [
      " 29%|██▉       | 15103/52002 [4:15:00<8:39:47,  1.18it/s] "
     ]
    },
    {
     "name": "stdout",
     "output_type": "stream",
     "text": [
      "index out of range in self\n"
     ]
    },
    {
     "name": "stderr",
     "output_type": "stream",
     "text": [
      " 30%|███       | 15676/52002 [4:25:16<33:36:49,  3.33s/it]"
     ]
    },
    {
     "name": "stdout",
     "output_type": "stream",
     "text": [
      "index out of range in self\n"
     ]
    },
    {
     "name": "stderr",
     "output_type": "stream",
     "text": [
      " 31%|███       | 15909/52002 [4:29:26<7:08:52,  1.40it/s] "
     ]
    },
    {
     "name": "stdout",
     "output_type": "stream",
     "text": [
      "index out of range in self\n"
     ]
    },
    {
     "name": "stderr",
     "output_type": "stream",
     "text": [
      " 31%|███       | 16008/52002 [4:30:46<30:09:05,  3.02s/it]"
     ]
    },
    {
     "name": "stdout",
     "output_type": "stream",
     "text": [
      "index out of range in self\n"
     ]
    },
    {
     "name": "stderr",
     "output_type": "stream",
     "text": [
      " 32%|███▏      | 16662/52002 [4:41:45<51:38:33,  5.26s/it]"
     ]
    },
    {
     "name": "stdout",
     "output_type": "stream",
     "text": [
      "index out of range in self\n"
     ]
    },
    {
     "name": "stderr",
     "output_type": "stream",
     "text": [
      " 33%|███▎      | 17135/52002 [4:49:32<28:04:06,  2.90s/it]"
     ]
    },
    {
     "name": "stdout",
     "output_type": "stream",
     "text": [
      "index out of range in self\n"
     ]
    },
    {
     "name": "stderr",
     "output_type": "stream",
     "text": [
      " 35%|███▍      | 17943/52002 [5:03:06<32:26:22,  3.43s/it]"
     ]
    },
    {
     "name": "stdout",
     "output_type": "stream",
     "text": [
      "index out of range in self\n"
     ]
    },
    {
     "name": "stderr",
     "output_type": "stream",
     "text": [
      " 35%|███▌      | 18296/52002 [5:09:22<10:31:24,  1.12s/it]"
     ]
    },
    {
     "name": "stdout",
     "output_type": "stream",
     "text": [
      "index out of range in self\n"
     ]
    },
    {
     "name": "stderr",
     "output_type": "stream",
     "text": [
      " 35%|███▌      | 18305/52002 [5:09:30<6:22:29,  1.47it/s] "
     ]
    },
    {
     "name": "stdout",
     "output_type": "stream",
     "text": [
      "index out of range in self\n"
     ]
    },
    {
     "name": "stderr",
     "output_type": "stream",
     "text": [
      " 35%|███▌      | 18343/52002 [5:10:08<30:45:20,  3.29s/it]"
     ]
    },
    {
     "name": "stdout",
     "output_type": "stream",
     "text": [
      "index out of range in self\n"
     ]
    },
    {
     "name": "stderr",
     "output_type": "stream",
     "text": [
      " 36%|███▌      | 18575/52002 [5:14:47<27:07:52,  2.92s/it]"
     ]
    },
    {
     "name": "stdout",
     "output_type": "stream",
     "text": [
      "index out of range in self\n"
     ]
    },
    {
     "name": "stderr",
     "output_type": "stream",
     "text": [
      " 36%|███▌      | 18635/52002 [5:15:55<28:56:13,  3.12s/it]"
     ]
    },
    {
     "name": "stdout",
     "output_type": "stream",
     "text": [
      "index out of range in self\n"
     ]
    },
    {
     "name": "stderr",
     "output_type": "stream",
     "text": [
      " 36%|███▋      | 18854/52002 [5:19:35<7:27:41,  1.23it/s] "
     ]
    },
    {
     "name": "stdout",
     "output_type": "stream",
     "text": [
      "index out of range in self\n"
     ]
    },
    {
     "name": "stderr",
     "output_type": "stream",
     "text": [
      " 36%|███▋      | 18919/52002 [5:20:45<25:54:45,  2.82s/it]"
     ]
    },
    {
     "name": "stdout",
     "output_type": "stream",
     "text": [
      "index out of range in self\n"
     ]
    },
    {
     "name": "stderr",
     "output_type": "stream",
     "text": [
      " 37%|███▋      | 19404/52002 [5:28:35<16:56:29,  1.87s/it]"
     ]
    },
    {
     "name": "stdout",
     "output_type": "stream",
     "text": [
      "index out of range in self\n"
     ]
    },
    {
     "name": "stderr",
     "output_type": "stream",
     "text": [
      " 37%|███▋      | 19406/52002 [5:28:47<37:11:53,  4.11s/it]"
     ]
    },
    {
     "name": "stdout",
     "output_type": "stream",
     "text": [
      "index out of range in self\n"
     ]
    },
    {
     "name": "stderr",
     "output_type": "stream",
     "text": [
      " 37%|███▋      | 19416/52002 [5:29:05<30:39:57,  3.39s/it]"
     ]
    },
    {
     "name": "stdout",
     "output_type": "stream",
     "text": [
      "index out of range in self\n"
     ]
    },
    {
     "name": "stderr",
     "output_type": "stream",
     "text": [
      " 37%|███▋      | 19446/52002 [5:29:59<32:27:11,  3.59s/it]"
     ]
    },
    {
     "name": "stdout",
     "output_type": "stream",
     "text": [
      "index out of range in self\n"
     ]
    },
    {
     "name": "stderr",
     "output_type": "stream",
     "text": [
      " 38%|███▊      | 19619/52002 [5:32:53<29:06:10,  3.24s/it]"
     ]
    },
    {
     "name": "stdout",
     "output_type": "stream",
     "text": [
      "index out of range in self\n"
     ]
    },
    {
     "name": "stderr",
     "output_type": "stream",
     "text": [
      " 38%|███▊      | 19863/52002 [5:36:59<14:49:58,  1.66s/it]"
     ]
    },
    {
     "name": "stdout",
     "output_type": "stream",
     "text": [
      "index out of range in self\n"
     ]
    },
    {
     "name": "stderr",
     "output_type": "stream",
     "text": [
      " 38%|███▊      | 19871/52002 [5:37:18<29:49:50,  3.34s/it]"
     ]
    },
    {
     "name": "stdout",
     "output_type": "stream",
     "text": [
      "index out of range in self\n"
     ]
    },
    {
     "name": "stderr",
     "output_type": "stream",
     "text": [
      " 38%|███▊      | 19872/52002 [5:37:26<42:12:35,  4.73s/it]"
     ]
    },
    {
     "name": "stdout",
     "output_type": "stream",
     "text": [
      "index out of range in self\n"
     ]
    },
    {
     "name": "stderr",
     "output_type": "stream",
     "text": [
      " 39%|███▉      | 20346/52002 [5:44:47<28:27:48,  3.24s/it]"
     ]
    },
    {
     "name": "stdout",
     "output_type": "stream",
     "text": [
      "index out of range in self\n"
     ]
    },
    {
     "name": "stderr",
     "output_type": "stream",
     "text": [
      " 40%|███▉      | 20781/52002 [5:52:02<22:57:07,  2.65s/it]"
     ]
    },
    {
     "name": "stdout",
     "output_type": "stream",
     "text": [
      "index out of range in self\n"
     ]
    },
    {
     "name": "stderr",
     "output_type": "stream",
     "text": [
      " 42%|████▏     | 21684/52002 [6:06:43<32:35:07,  3.87s/it]"
     ]
    },
    {
     "name": "stdout",
     "output_type": "stream",
     "text": [
      "index out of range in self\n"
     ]
    },
    {
     "name": "stderr",
     "output_type": "stream",
     "text": [
      " 43%|████▎     | 22116/52002 [6:14:02<24:56:32,  3.00s/it]"
     ]
    },
    {
     "name": "stdout",
     "output_type": "stream",
     "text": [
      "index out of range in self\n"
     ]
    },
    {
     "name": "stderr",
     "output_type": "stream",
     "text": [
      " 43%|████▎     | 22457/52002 [6:20:00<26:22:33,  3.21s/it]"
     ]
    },
    {
     "name": "stdout",
     "output_type": "stream",
     "text": [
      "index out of range in self\n"
     ]
    },
    {
     "name": "stderr",
     "output_type": "stream",
     "text": [
      " 44%|████▍     | 22958/52002 [6:28:49<25:07:00,  3.11s/it]"
     ]
    },
    {
     "name": "stdout",
     "output_type": "stream",
     "text": [
      "index out of range in self\n"
     ]
    },
    {
     "name": "stderr",
     "output_type": "stream",
     "text": [
      " 45%|████▍     | 23181/52002 [6:32:35<27:47:15,  3.47s/it]"
     ]
    },
    {
     "name": "stdout",
     "output_type": "stream",
     "text": [
      "index out of range in self\n"
     ]
    },
    {
     "name": "stderr",
     "output_type": "stream",
     "text": [
      " 45%|████▍     | 23299/52002 [6:34:32<24:57:49,  3.13s/it]"
     ]
    },
    {
     "name": "stdout",
     "output_type": "stream",
     "text": [
      "index out of range in self\n"
     ]
    },
    {
     "name": "stderr",
     "output_type": "stream",
     "text": [
      " 45%|████▌     | 23414/52002 [6:36:19<23:33:33,  2.97s/it]"
     ]
    },
    {
     "name": "stdout",
     "output_type": "stream",
     "text": [
      "index out of range in self\n"
     ]
    },
    {
     "name": "stderr",
     "output_type": "stream",
     "text": [
      " 46%|████▌     | 23768/52002 [6:42:07<25:33:58,  3.26s/it]"
     ]
    },
    {
     "name": "stdout",
     "output_type": "stream",
     "text": [
      "index out of range in self\n"
     ]
    },
    {
     "name": "stderr",
     "output_type": "stream",
     "text": [
      " 46%|████▋     | 24170/52002 [6:49:23<31:39:46,  4.10s/it]"
     ]
    },
    {
     "name": "stdout",
     "output_type": "stream",
     "text": [
      "index out of range in self\n"
     ]
    },
    {
     "name": "stderr",
     "output_type": "stream",
     "text": [
      " 47%|████▋     | 24205/52002 [6:50:08<24:07:44,  3.12s/it]"
     ]
    },
    {
     "name": "stdout",
     "output_type": "stream",
     "text": [
      "index out of range in self\n"
     ]
    },
    {
     "name": "stderr",
     "output_type": "stream",
     "text": [
      " 47%|████▋     | 24319/52002 [6:52:04<25:40:29,  3.34s/it]"
     ]
    },
    {
     "name": "stdout",
     "output_type": "stream",
     "text": [
      "index out of range in self\n"
     ]
    },
    {
     "name": "stderr",
     "output_type": "stream",
     "text": [
      " 47%|████▋     | 24337/52002 [6:52:27<21:09:14,  2.75s/it]"
     ]
    },
    {
     "name": "stdout",
     "output_type": "stream",
     "text": [
      "index out of range in self\n"
     ]
    },
    {
     "name": "stderr",
     "output_type": "stream",
     "text": [
      " 48%|████▊     | 24712/52002 [6:58:41<28:12:05,  3.72s/it]"
     ]
    },
    {
     "name": "stdout",
     "output_type": "stream",
     "text": [
      "index out of range in self\n"
     ]
    },
    {
     "name": "stderr",
     "output_type": "stream",
     "text": [
      " 48%|████▊     | 25079/52002 [7:04:58<22:17:37,  2.98s/it]"
     ]
    },
    {
     "name": "stdout",
     "output_type": "stream",
     "text": [
      "index out of range in self\n"
     ]
    },
    {
     "name": "stderr",
     "output_type": "stream",
     "text": [
      " 48%|████▊     | 25155/52002 [7:06:04<4:44:56,  1.57it/s] "
     ]
    },
    {
     "name": "stdout",
     "output_type": "stream",
     "text": [
      "index out of range in self\n"
     ]
    },
    {
     "name": "stderr",
     "output_type": "stream",
     "text": [
      " 49%|████▊     | 25328/52002 [7:09:27<22:12:51,  3.00s/it]"
     ]
    },
    {
     "name": "stdout",
     "output_type": "stream",
     "text": [
      "index out of range in self\n"
     ]
    },
    {
     "name": "stderr",
     "output_type": "stream",
     "text": [
      " 49%|████▉     | 25451/52002 [7:11:33<21:38:03,  2.93s/it]"
     ]
    },
    {
     "name": "stdout",
     "output_type": "stream",
     "text": [
      "index out of range in self\n"
     ]
    },
    {
     "name": "stderr",
     "output_type": "stream",
     "text": [
      " 49%|████▉     | 25651/52002 [7:14:28<3:15:08,  2.25it/s] "
     ]
    },
    {
     "name": "stdout",
     "output_type": "stream",
     "text": [
      "index out of range in self\n"
     ]
    },
    {
     "name": "stderr",
     "output_type": "stream",
     "text": [
      " 49%|████▉     | 25659/52002 [7:14:47<23:15:14,  3.18s/it]"
     ]
    },
    {
     "name": "stdout",
     "output_type": "stream",
     "text": [
      "index out of range in self\n"
     ]
    },
    {
     "name": "stderr",
     "output_type": "stream",
     "text": [
      " 50%|████▉     | 25960/52002 [7:20:36<21:55:50,  3.03s/it]"
     ]
    },
    {
     "name": "stdout",
     "output_type": "stream",
     "text": [
      "index out of range in self\n"
     ]
    },
    {
     "name": "stderr",
     "output_type": "stream",
     "text": [
      " 50%|█████     | 26098/52002 [7:22:31<6:07:46,  1.17it/s] "
     ]
    },
    {
     "name": "stdout",
     "output_type": "stream",
     "text": [
      "index out of range in self\n"
     ]
    },
    {
     "name": "stderr",
     "output_type": "stream",
     "text": [
      " 50%|█████     | 26165/52002 [7:23:44<23:34:12,  3.28s/it]"
     ]
    },
    {
     "name": "stdout",
     "output_type": "stream",
     "text": [
      "index out of range in self\n"
     ]
    },
    {
     "name": "stderr",
     "output_type": "stream",
     "text": [
      " 51%|█████     | 26276/52002 [7:25:31<19:51:03,  2.78s/it]"
     ]
    },
    {
     "name": "stdout",
     "output_type": "stream",
     "text": [
      "index out of range in self\n"
     ]
    },
    {
     "name": "stderr",
     "output_type": "stream",
     "text": [
      " 51%|█████     | 26572/52002 [7:30:37<21:16:20,  3.01s/it]"
     ]
    },
    {
     "name": "stdout",
     "output_type": "stream",
     "text": [
      "index out of range in self\n"
     ]
    },
    {
     "name": "stderr",
     "output_type": "stream",
     "text": [
      " 52%|█████▏    | 26801/52002 [7:35:13<21:15:47,  3.04s/it]"
     ]
    },
    {
     "name": "stdout",
     "output_type": "stream",
     "text": [
      "index out of range in self\n"
     ]
    },
    {
     "name": "stderr",
     "output_type": "stream",
     "text": [
      " 52%|█████▏    | 26936/52002 [7:37:37<26:44:13,  3.84s/it]"
     ]
    },
    {
     "name": "stdout",
     "output_type": "stream",
     "text": [
      "index out of range in self\n"
     ]
    },
    {
     "name": "stderr",
     "output_type": "stream",
     "text": [
      " 52%|█████▏    | 27000/52002 [7:38:27<3:18:51,  2.10it/s] "
     ]
    },
    {
     "name": "stdout",
     "output_type": "stream",
     "text": [
      "index out of range in self\n"
     ]
    },
    {
     "name": "stderr",
     "output_type": "stream",
     "text": [
      " 52%|█████▏    | 27008/52002 [7:38:42<21:02:38,  3.03s/it]"
     ]
    },
    {
     "name": "stdout",
     "output_type": "stream",
     "text": [
      "index out of range in self\n"
     ]
    },
    {
     "name": "stderr",
     "output_type": "stream",
     "text": [
      " 52%|█████▏    | 27081/52002 [7:39:59<22:06:29,  3.19s/it]"
     ]
    },
    {
     "name": "stdout",
     "output_type": "stream",
     "text": [
      "index out of range in self\n"
     ]
    },
    {
     "name": "stderr",
     "output_type": "stream",
     "text": [
      " 53%|█████▎    | 27355/52002 [7:44:36<22:39:35,  3.31s/it]"
     ]
    },
    {
     "name": "stdout",
     "output_type": "stream",
     "text": [
      "index out of range in self\n"
     ]
    },
    {
     "name": "stderr",
     "output_type": "stream",
     "text": [
      " 53%|█████▎    | 27644/52002 [7:49:39<25:28:06,  3.76s/it]"
     ]
    },
    {
     "name": "stdout",
     "output_type": "stream",
     "text": [
      "index out of range in self\n"
     ]
    },
    {
     "name": "stderr",
     "output_type": "stream",
     "text": [
      " 53%|█████▎    | 27699/52002 [7:50:40<31:07:01,  4.61s/it]"
     ]
    },
    {
     "name": "stdout",
     "output_type": "stream",
     "text": [
      "index out of range in self\n"
     ]
    },
    {
     "name": "stderr",
     "output_type": "stream",
     "text": [
      " 53%|█████▎    | 27820/52002 [7:52:57<20:09:36,  3.00s/it]"
     ]
    },
    {
     "name": "stdout",
     "output_type": "stream",
     "text": [
      "index out of range in self\n"
     ]
    },
    {
     "name": "stderr",
     "output_type": "stream",
     "text": [
      " 54%|█████▍    | 28008/52002 [7:56:23<18:51:46,  2.83s/it]"
     ]
    },
    {
     "name": "stdout",
     "output_type": "stream",
     "text": [
      "index out of range in self\n"
     ]
    },
    {
     "name": "stderr",
     "output_type": "stream",
     "text": [
      " 54%|█████▍    | 28018/52002 [7:56:39<20:07:08,  3.02s/it]"
     ]
    },
    {
     "name": "stdout",
     "output_type": "stream",
     "text": [
      "index out of range in self\n"
     ]
    },
    {
     "name": "stderr",
     "output_type": "stream",
     "text": [
      " 55%|█████▍    | 28595/52002 [8:07:29<18:15:36,  2.81s/it]"
     ]
    },
    {
     "name": "stdout",
     "output_type": "stream",
     "text": [
      "index out of range in self\n"
     ]
    },
    {
     "name": "stderr",
     "output_type": "stream",
     "text": [
      " 55%|█████▌    | 28741/52002 [8:09:56<21:16:39,  3.29s/it]"
     ]
    },
    {
     "name": "stdout",
     "output_type": "stream",
     "text": [
      "index out of range in self\n"
     ]
    },
    {
     "name": "stderr",
     "output_type": "stream",
     "text": [
      " 57%|█████▋    | 29734/52002 [8:26:32<23:42:34,  3.83s/it]"
     ]
    },
    {
     "name": "stdout",
     "output_type": "stream",
     "text": [
      "index out of range in self\n"
     ]
    },
    {
     "name": "stderr",
     "output_type": "stream",
     "text": [
      " 58%|█████▊    | 29956/52002 [8:30:37<19:22:21,  3.16s/it]"
     ]
    },
    {
     "name": "stdout",
     "output_type": "stream",
     "text": [
      "index out of range in self\n"
     ]
    },
    {
     "name": "stderr",
     "output_type": "stream",
     "text": [
      " 58%|█████▊    | 30054/52002 [8:32:28<22:22:08,  3.67s/it]"
     ]
    },
    {
     "name": "stdout",
     "output_type": "stream",
     "text": [
      "index out of range in self\n"
     ]
    },
    {
     "name": "stderr",
     "output_type": "stream",
     "text": [
      " 58%|█████▊    | 30085/52002 [8:33:04<22:58:45,  3.77s/it]"
     ]
    },
    {
     "name": "stdout",
     "output_type": "stream",
     "text": [
      "index out of range in self\n"
     ]
    },
    {
     "name": "stderr",
     "output_type": "stream",
     "text": [
      " 58%|█████▊    | 30397/52002 [8:38:24<17:25:36,  2.90s/it]"
     ]
    },
    {
     "name": "stdout",
     "output_type": "stream",
     "text": [
      "index out of range in self\n"
     ]
    },
    {
     "name": "stderr",
     "output_type": "stream",
     "text": [
      " 59%|█████▊    | 30465/52002 [8:39:58<21:47:41,  3.64s/it]"
     ]
    },
    {
     "name": "stdout",
     "output_type": "stream",
     "text": [
      "index out of range in self\n"
     ]
    },
    {
     "name": "stderr",
     "output_type": "stream",
     "text": [
      " 59%|█████▊    | 30486/52002 [8:40:22<19:55:13,  3.33s/it]"
     ]
    },
    {
     "name": "stdout",
     "output_type": "stream",
     "text": [
      "index out of range in self\n"
     ]
    },
    {
     "name": "stderr",
     "output_type": "stream",
     "text": [
      " 59%|█████▉    | 30772/52002 [8:45:47<22:08:41,  3.76s/it]"
     ]
    },
    {
     "name": "stdout",
     "output_type": "stream",
     "text": [
      "index out of range in self\n"
     ]
    },
    {
     "name": "stderr",
     "output_type": "stream",
     "text": [
      " 59%|█████▉    | 30930/52002 [8:48:34<20:52:58,  3.57s/it]"
     ]
    },
    {
     "name": "stdout",
     "output_type": "stream",
     "text": [
      "index out of range in self\n"
     ]
    },
    {
     "name": "stderr",
     "output_type": "stream",
     "text": [
      " 61%|██████    | 31474/52002 [8:58:14<18:06:05,  3.17s/it]"
     ]
    },
    {
     "name": "stdout",
     "output_type": "stream",
     "text": [
      "index out of range in self\n"
     ]
    },
    {
     "name": "stderr",
     "output_type": "stream",
     "text": [
      " 61%|██████    | 31553/52002 [8:59:33<4:02:03,  1.41it/s] "
     ]
    },
    {
     "name": "stdout",
     "output_type": "stream",
     "text": [
      "index out of range in self\n"
     ]
    },
    {
     "name": "stderr",
     "output_type": "stream",
     "text": [
      " 62%|██████▏   | 32165/52002 [9:09:05<16:44:44,  3.04s/it]"
     ]
    },
    {
     "name": "stdout",
     "output_type": "stream",
     "text": [
      "index out of range in self\n"
     ]
    },
    {
     "name": "stderr",
     "output_type": "stream",
     "text": [
      " 62%|██████▏   | 32175/52002 [9:09:20<17:17:11,  3.14s/it]"
     ]
    },
    {
     "name": "stdout",
     "output_type": "stream",
     "text": [
      "index out of range in self\n"
     ]
    },
    {
     "name": "stderr",
     "output_type": "stream",
     "text": [
      " 63%|██████▎   | 32550/52002 [9:15:52<19:50:50,  3.67s/it]"
     ]
    },
    {
     "name": "stdout",
     "output_type": "stream",
     "text": [
      "index out of range in self\n"
     ]
    },
    {
     "name": "stderr",
     "output_type": "stream",
     "text": [
      " 63%|██████▎   | 32688/52002 [9:18:14<19:55:05,  3.71s/it]"
     ]
    },
    {
     "name": "stdout",
     "output_type": "stream",
     "text": [
      "index out of range in self\n"
     ]
    },
    {
     "name": "stderr",
     "output_type": "stream",
     "text": [
      " 63%|██████▎   | 32785/52002 [9:20:11<17:16:13,  3.24s/it]"
     ]
    },
    {
     "name": "stdout",
     "output_type": "stream",
     "text": [
      "index out of range in self\n"
     ]
    },
    {
     "name": "stderr",
     "output_type": "stream",
     "text": [
      " 63%|██████▎   | 32880/52002 [9:21:40<15:29:11,  2.92s/it]"
     ]
    },
    {
     "name": "stdout",
     "output_type": "stream",
     "text": [
      "index out of range in self\n"
     ]
    },
    {
     "name": "stderr",
     "output_type": "stream",
     "text": [
      " 63%|██████▎   | 32894/52002 [9:22:03<17:24:09,  3.28s/it]"
     ]
    },
    {
     "name": "stdout",
     "output_type": "stream",
     "text": [
      "index out of range in self\n"
     ]
    },
    {
     "name": "stderr",
     "output_type": "stream",
     "text": [
      " 64%|██████▍   | 33210/52002 [9:27:23<16:48:07,  3.22s/it]"
     ]
    },
    {
     "name": "stdout",
     "output_type": "stream",
     "text": [
      "index out of range in self\n"
     ]
    },
    {
     "name": "stderr",
     "output_type": "stream",
     "text": [
      " 65%|██████▍   | 33663/52002 [9:34:37<15:27:55,  3.04s/it]"
     ]
    },
    {
     "name": "stdout",
     "output_type": "stream",
     "text": [
      "index out of range in self\n"
     ]
    },
    {
     "name": "stderr",
     "output_type": "stream",
     "text": [
      " 65%|██████▍   | 33666/52002 [9:34:40<8:37:46,  1.69s/it] "
     ]
    },
    {
     "name": "stdout",
     "output_type": "stream",
     "text": [
      "index out of range in self\n"
     ]
    },
    {
     "name": "stderr",
     "output_type": "stream",
     "text": [
      " 65%|██████▌   | 34034/52002 [9:41:35<14:59:05,  3.00s/it]"
     ]
    },
    {
     "name": "stdout",
     "output_type": "stream",
     "text": [
      "index out of range in self\n"
     ]
    },
    {
     "name": "stderr",
     "output_type": "stream",
     "text": [
      " 66%|██████▌   | 34316/52002 [9:46:31<15:07:11,  3.08s/it]"
     ]
    },
    {
     "name": "stdout",
     "output_type": "stream",
     "text": [
      "index out of range in self\n"
     ]
    },
    {
     "name": "stderr",
     "output_type": "stream",
     "text": [
      " 66%|██████▌   | 34339/52002 [9:47:06<15:56:07,  3.25s/it]"
     ]
    },
    {
     "name": "stdout",
     "output_type": "stream",
     "text": [
      "index out of range in self\n"
     ]
    },
    {
     "name": "stderr",
     "output_type": "stream",
     "text": [
      " 66%|██████▌   | 34451/52002 [9:49:14<16:53:34,  3.46s/it]"
     ]
    },
    {
     "name": "stdout",
     "output_type": "stream",
     "text": [
      "index out of range in self\n"
     ]
    },
    {
     "name": "stderr",
     "output_type": "stream",
     "text": [
      " 66%|██████▋   | 34457/52002 [9:49:28<16:45:36,  3.44s/it]"
     ]
    },
    {
     "name": "stdout",
     "output_type": "stream",
     "text": [
      "index out of range in self\n"
     ]
    },
    {
     "name": "stderr",
     "output_type": "stream",
     "text": [
      " 66%|██████▋   | 34493/52002 [9:50:11<13:34:33,  2.79s/it]"
     ]
    },
    {
     "name": "stdout",
     "output_type": "stream",
     "text": [
      "index out of range in self\n"
     ]
    },
    {
     "name": "stderr",
     "output_type": "stream",
     "text": [
      " 67%|██████▋   | 34884/52002 [9:56:52<14:26:12,  3.04s/it]"
     ]
    },
    {
     "name": "stdout",
     "output_type": "stream",
     "text": [
      "index out of range in self\n"
     ]
    },
    {
     "name": "stderr",
     "output_type": "stream",
     "text": [
      " 67%|██████▋   | 34886/52002 [9:57:00<19:02:28,  4.00s/it]"
     ]
    },
    {
     "name": "stdout",
     "output_type": "stream",
     "text": [
      "index out of range in self\n"
     ]
    },
    {
     "name": "stderr",
     "output_type": "stream",
     "text": [
      " 67%|██████▋   | 34887/52002 [9:57:01<13:40:18,  2.88s/it]"
     ]
    },
    {
     "name": "stdout",
     "output_type": "stream",
     "text": [
      "index out of range in self\n"
     ]
    },
    {
     "name": "stderr",
     "output_type": "stream",
     "text": [
      " 67%|██████▋   | 34917/52002 [9:57:39<17:38:32,  3.72s/it]"
     ]
    },
    {
     "name": "stdout",
     "output_type": "stream",
     "text": [
      "index out of range in self\n"
     ]
    },
    {
     "name": "stderr",
     "output_type": "stream",
     "text": [
      " 68%|██████▊   | 35175/52002 [10:02:11<16:30:41,  3.53s/it]"
     ]
    },
    {
     "name": "stdout",
     "output_type": "stream",
     "text": [
      "index out of range in self\n"
     ]
    },
    {
     "name": "stderr",
     "output_type": "stream",
     "text": [
      " 68%|██████▊   | 35240/52002 [10:03:03<4:42:25,  1.01s/it] "
     ]
    },
    {
     "name": "stdout",
     "output_type": "stream",
     "text": [
      "index out of range in self\n"
     ]
    },
    {
     "name": "stderr",
     "output_type": "stream",
     "text": [
      " 68%|██████▊   | 35308/52002 [10:04:24<15:46:34,  3.40s/it]"
     ]
    },
    {
     "name": "stdout",
     "output_type": "stream",
     "text": [
      "index out of range in self\n"
     ]
    },
    {
     "name": "stderr",
     "output_type": "stream",
     "text": [
      " 68%|██████▊   | 35376/52002 [10:05:39<20:39:11,  4.47s/it]"
     ]
    },
    {
     "name": "stdout",
     "output_type": "stream",
     "text": [
      "index out of range in self\n"
     ]
    },
    {
     "name": "stderr",
     "output_type": "stream",
     "text": [
      " 68%|██████▊   | 35610/52002 [10:09:25<13:19:17,  2.93s/it]"
     ]
    },
    {
     "name": "stdout",
     "output_type": "stream",
     "text": [
      "index out of range in self\n"
     ]
    },
    {
     "name": "stderr",
     "output_type": "stream",
     "text": [
      " 69%|██████▊   | 35659/52002 [10:10:29<17:58:27,  3.96s/it]"
     ]
    },
    {
     "name": "stdout",
     "output_type": "stream",
     "text": [
      "index out of range in self\n"
     ]
    },
    {
     "name": "stderr",
     "output_type": "stream",
     "text": [
      " 69%|██████▉   | 35787/52002 [10:12:47<14:53:08,  3.30s/it]"
     ]
    },
    {
     "name": "stdout",
     "output_type": "stream",
     "text": [
      "index out of range in self\n"
     ]
    },
    {
     "name": "stderr",
     "output_type": "stream",
     "text": [
      " 70%|██████▉   | 36218/52002 [10:21:49<13:55:59,  3.18s/it]"
     ]
    },
    {
     "name": "stdout",
     "output_type": "stream",
     "text": [
      "index out of range in self\n"
     ]
    },
    {
     "name": "stderr",
     "output_type": "stream",
     "text": [
      " 70%|██████▉   | 36312/52002 [10:23:31<15:15:06,  3.50s/it]"
     ]
    },
    {
     "name": "stdout",
     "output_type": "stream",
     "text": [
      "index out of range in self\n"
     ]
    },
    {
     "name": "stderr",
     "output_type": "stream",
     "text": [
      " 70%|███████   | 36519/52002 [10:27:22<12:55:04,  3.00s/it]"
     ]
    },
    {
     "name": "stdout",
     "output_type": "stream",
     "text": [
      "index out of range in self\n"
     ]
    },
    {
     "name": "stderr",
     "output_type": "stream",
     "text": [
      " 70%|███████   | 36661/52002 [10:29:35<14:16:28,  3.35s/it]"
     ]
    },
    {
     "name": "stdout",
     "output_type": "stream",
     "text": [
      "index out of range in self\n"
     ]
    },
    {
     "name": "stderr",
     "output_type": "stream",
     "text": [
      " 71%|███████   | 36708/52002 [10:30:33<14:37:09,  3.44s/it]"
     ]
    },
    {
     "name": "stdout",
     "output_type": "stream",
     "text": [
      "index out of range in self\n"
     ]
    },
    {
     "name": "stderr",
     "output_type": "stream",
     "text": [
      " 71%|███████   | 36749/52002 [10:31:29<13:09:33,  3.11s/it]"
     ]
    },
    {
     "name": "stdout",
     "output_type": "stream",
     "text": [
      "index out of range in self\n"
     ]
    },
    {
     "name": "stderr",
     "output_type": "stream",
     "text": [
      " 71%|███████   | 36751/52002 [10:31:38<17:24:46,  4.11s/it]"
     ]
    },
    {
     "name": "stdout",
     "output_type": "stream",
     "text": [
      "index out of range in self\n"
     ]
    },
    {
     "name": "stderr",
     "output_type": "stream",
     "text": [
      " 73%|███████▎  | 38013/52002 [10:52:33<11:39:22,  3.00s/it]"
     ]
    },
    {
     "name": "stdout",
     "output_type": "stream",
     "text": [
      "index out of range in self\n"
     ]
    },
    {
     "name": "stderr",
     "output_type": "stream",
     "text": [
      " 73%|███████▎  | 38017/52002 [10:52:45<14:42:00,  3.78s/it]"
     ]
    },
    {
     "name": "stdout",
     "output_type": "stream",
     "text": [
      "index out of range in self\n"
     ]
    },
    {
     "name": "stderr",
     "output_type": "stream",
     "text": [
      " 73%|███████▎  | 38160/52002 [10:55:20<14:21:13,  3.73s/it]"
     ]
    },
    {
     "name": "stdout",
     "output_type": "stream",
     "text": [
      "index out of range in self\n"
     ]
    },
    {
     "name": "stderr",
     "output_type": "stream",
     "text": [
      " 74%|███████▍  | 38426/52002 [11:00:12<14:24:08,  3.82s/it]"
     ]
    },
    {
     "name": "stdout",
     "output_type": "stream",
     "text": [
      "index out of range in self\n"
     ]
    },
    {
     "name": "stderr",
     "output_type": "stream",
     "text": [
      " 75%|███████▍  | 38860/52002 [11:08:06<11:54:58,  3.26s/it]"
     ]
    },
    {
     "name": "stdout",
     "output_type": "stream",
     "text": [
      "index out of range in self\n"
     ]
    },
    {
     "name": "stderr",
     "output_type": "stream",
     "text": [
      " 75%|███████▍  | 38868/52002 [11:08:25<13:45:55,  3.77s/it]"
     ]
    },
    {
     "name": "stdout",
     "output_type": "stream",
     "text": [
      "index out of range in self\n"
     ]
    },
    {
     "name": "stderr",
     "output_type": "stream",
     "text": [
      " 75%|███████▌  | 39032/52002 [11:11:25<3:23:04,  1.06it/s] "
     ]
    },
    {
     "name": "stdout",
     "output_type": "stream",
     "text": [
      "index out of range in self\n"
     ]
    },
    {
     "name": "stderr",
     "output_type": "stream",
     "text": [
      " 75%|███████▌  | 39098/52002 [11:12:40<11:44:32,  3.28s/it]"
     ]
    },
    {
     "name": "stdout",
     "output_type": "stream",
     "text": [
      "index out of range in self\n"
     ]
    },
    {
     "name": "stderr",
     "output_type": "stream",
     "text": [
      " 75%|███████▌  | 39187/52002 [11:14:29<12:01:17,  3.38s/it]"
     ]
    },
    {
     "name": "stdout",
     "output_type": "stream",
     "text": [
      "index out of range in self\n"
     ]
    },
    {
     "name": "stderr",
     "output_type": "stream",
     "text": [
      " 76%|███████▌  | 39338/52002 [11:17:08<10:47:51,  3.07s/it]"
     ]
    },
    {
     "name": "stdout",
     "output_type": "stream",
     "text": [
      "index out of range in self\n"
     ]
    },
    {
     "name": "stderr",
     "output_type": "stream",
     "text": [
      " 78%|███████▊  | 40648/52002 [11:40:20<8:44:07,  2.77s/it] "
     ]
    },
    {
     "name": "stdout",
     "output_type": "stream",
     "text": [
      "index out of range in self\n"
     ]
    },
    {
     "name": "stderr",
     "output_type": "stream",
     "text": [
      " 78%|███████▊  | 40679/52002 [11:41:05<10:46:56,  3.43s/it]"
     ]
    },
    {
     "name": "stdout",
     "output_type": "stream",
     "text": [
      "index out of range in self\n"
     ]
    },
    {
     "name": "stderr",
     "output_type": "stream",
     "text": [
      " 80%|███████▉  | 41351/52002 [11:52:23<8:58:08,  3.03s/it] "
     ]
    },
    {
     "name": "stdout",
     "output_type": "stream",
     "text": [
      "index out of range in self\n"
     ]
    },
    {
     "name": "stderr",
     "output_type": "stream",
     "text": [
      " 80%|████████  | 41743/52002 [11:59:49<10:43:42,  3.76s/it]"
     ]
    },
    {
     "name": "stdout",
     "output_type": "stream",
     "text": [
      "index out of range in self\n"
     ]
    },
    {
     "name": "stderr",
     "output_type": "stream",
     "text": [
      " 81%|████████  | 41989/52002 [12:04:11<9:06:06,  3.27s/it] "
     ]
    },
    {
     "name": "stdout",
     "output_type": "stream",
     "text": [
      "index out of range in self\n"
     ]
    },
    {
     "name": "stderr",
     "output_type": "stream",
     "text": [
      " 82%|████████▏ | 42463/52002 [12:12:19<8:36:00,  3.25s/it]"
     ]
    },
    {
     "name": "stdout",
     "output_type": "stream",
     "text": [
      "index out of range in self\n"
     ]
    },
    {
     "name": "stderr",
     "output_type": "stream",
     "text": [
      " 83%|████████▎ | 43174/52002 [12:24:51<8:48:42,  3.59s/it]"
     ]
    },
    {
     "name": "stdout",
     "output_type": "stream",
     "text": [
      "index out of range in self\n"
     ]
    },
    {
     "name": "stderr",
     "output_type": "stream",
     "text": [
      " 83%|████████▎ | 43396/52002 [12:29:39<8:09:12,  3.41s/it]"
     ]
    },
    {
     "name": "stdout",
     "output_type": "stream",
     "text": [
      "index out of range in self\n"
     ]
    },
    {
     "name": "stderr",
     "output_type": "stream",
     "text": [
      " 84%|████████▍ | 43555/52002 [12:32:30<7:31:24,  3.21s/it]"
     ]
    },
    {
     "name": "stdout",
     "output_type": "stream",
     "text": [
      "index out of range in self\n"
     ]
    },
    {
     "name": "stderr",
     "output_type": "stream",
     "text": [
      " 85%|████████▍ | 44169/52002 [12:43:36<7:28:08,  3.43s/it]"
     ]
    },
    {
     "name": "stdout",
     "output_type": "stream",
     "text": [
      "index out of range in self\n"
     ]
    },
    {
     "name": "stderr",
     "output_type": "stream",
     "text": [
      " 85%|████████▌ | 44278/52002 [12:45:51<7:19:27,  3.41s/it]"
     ]
    },
    {
     "name": "stdout",
     "output_type": "stream",
     "text": [
      "index out of range in self\n"
     ]
    },
    {
     "name": "stderr",
     "output_type": "stream",
     "text": [
      " 85%|████████▌ | 44281/52002 [12:46:01<8:23:21,  3.91s/it]"
     ]
    },
    {
     "name": "stdout",
     "output_type": "stream",
     "text": [
      "index out of range in self\n"
     ]
    },
    {
     "name": "stderr",
     "output_type": "stream",
     "text": [
      " 85%|████████▌ | 44318/52002 [12:46:40<7:23:00,  3.46s/it]"
     ]
    },
    {
     "name": "stdout",
     "output_type": "stream",
     "text": [
      "index out of range in self\n"
     ]
    },
    {
     "name": "stderr",
     "output_type": "stream",
     "text": [
      " 86%|████████▌ | 44814/52002 [12:55:06<6:50:04,  3.42s/it]"
     ]
    },
    {
     "name": "stdout",
     "output_type": "stream",
     "text": [
      "index out of range in self\n"
     ]
    },
    {
     "name": "stderr",
     "output_type": "stream",
     "text": [
      " 87%|████████▋ | 45093/52002 [12:59:43<5:47:39,  3.02s/it]"
     ]
    },
    {
     "name": "stdout",
     "output_type": "stream",
     "text": [
      "index out of range in self\n"
     ]
    },
    {
     "name": "stderr",
     "output_type": "stream",
     "text": [
      " 87%|████████▋ | 45129/52002 [13:00:35<8:11:47,  4.29s/it]"
     ]
    },
    {
     "name": "stdout",
     "output_type": "stream",
     "text": [
      "index out of range in self\n"
     ]
    },
    {
     "name": "stderr",
     "output_type": "stream",
     "text": [
      " 87%|████████▋ | 45130/52002 [13:00:44<10:48:57,  5.67s/it]"
     ]
    },
    {
     "name": "stdout",
     "output_type": "stream",
     "text": [
      "index out of range in self\n"
     ]
    },
    {
     "name": "stderr",
     "output_type": "stream",
     "text": [
      " 87%|████████▋ | 45133/52002 [13:00:48<5:07:06,  2.68s/it] "
     ]
    },
    {
     "name": "stdout",
     "output_type": "stream",
     "text": [
      "index out of range in self\n"
     ]
    },
    {
     "name": "stderr",
     "output_type": "stream",
     "text": [
      " 87%|████████▋ | 45187/52002 [13:01:40<5:54:36,  3.12s/it]"
     ]
    },
    {
     "name": "stdout",
     "output_type": "stream",
     "text": [
      "index out of range in self\n"
     ]
    },
    {
     "name": "stderr",
     "output_type": "stream",
     "text": [
      " 87%|████████▋ | 45289/52002 [13:03:16<55:26,  2.02it/s]  Your input_length: 922 is bigger than 0.9 * max_length: 1024. You might consider increasing your max_length manually, e.g. translator('...', max_length=400)\n",
      " 87%|████████▋ | 45290/52002 [13:03:16<48:21,  2.31it/s]"
     ]
    },
    {
     "name": "stdout",
     "output_type": "stream",
     "text": [
      "index out of range in self\n"
     ]
    },
    {
     "name": "stderr",
     "output_type": "stream",
     "text": [
      " 88%|████████▊ | 45616/52002 [13:08:36<5:56:42,  3.35s/it]"
     ]
    },
    {
     "name": "stdout",
     "output_type": "stream",
     "text": [
      "index out of range in self\n"
     ]
    },
    {
     "name": "stderr",
     "output_type": "stream",
     "text": [
      " 89%|████████▊ | 46107/52002 [13:17:26<6:03:27,  3.70s/it]"
     ]
    },
    {
     "name": "stdout",
     "output_type": "stream",
     "text": [
      "index out of range in self\n"
     ]
    },
    {
     "name": "stderr",
     "output_type": "stream",
     "text": [
      " 90%|████████▉ | 46585/52002 [13:25:38<1:41:46,  1.13s/it]"
     ]
    },
    {
     "name": "stdout",
     "output_type": "stream",
     "text": [
      "index out of range in self\n"
     ]
    },
    {
     "name": "stderr",
     "output_type": "stream",
     "text": [
      " 91%|█████████ | 47428/52002 [13:40:02<4:22:31,  3.44s/it]"
     ]
    },
    {
     "name": "stdout",
     "output_type": "stream",
     "text": [
      "index out of range in self\n"
     ]
    },
    {
     "name": "stderr",
     "output_type": "stream",
     "text": [
      " 91%|█████████▏| 47565/52002 [13:42:42<4:49:24,  3.91s/it]"
     ]
    },
    {
     "name": "stdout",
     "output_type": "stream",
     "text": [
      "index out of range in self\n"
     ]
    },
    {
     "name": "stderr",
     "output_type": "stream",
     "text": [
      " 92%|█████████▏| 47606/52002 [13:43:31<3:46:01,  3.09s/it]"
     ]
    },
    {
     "name": "stdout",
     "output_type": "stream",
     "text": [
      "index out of range in self\n"
     ]
    },
    {
     "name": "stderr",
     "output_type": "stream",
     "text": [
      " 92%|█████████▏| 47689/52002 [13:44:53<3:37:41,  3.03s/it]"
     ]
    },
    {
     "name": "stdout",
     "output_type": "stream",
     "text": [
      "index out of range in self\n"
     ]
    },
    {
     "name": "stderr",
     "output_type": "stream",
     "text": [
      " 92%|█████████▏| 47701/52002 [13:45:09<1:43:41,  1.45s/it]"
     ]
    },
    {
     "name": "stdout",
     "output_type": "stream",
     "text": [
      "index out of range in self\n"
     ]
    },
    {
     "name": "stderr",
     "output_type": "stream",
     "text": [
      " 92%|█████████▏| 47871/52002 [13:48:23<4:50:30,  4.22s/it]"
     ]
    },
    {
     "name": "stdout",
     "output_type": "stream",
     "text": [
      "index out of range in self\n"
     ]
    },
    {
     "name": "stderr",
     "output_type": "stream",
     "text": [
      " 92%|█████████▏| 48039/52002 [13:51:12<3:33:10,  3.23s/it]"
     ]
    },
    {
     "name": "stdout",
     "output_type": "stream",
     "text": [
      "index out of range in self\n"
     ]
    },
    {
     "name": "stderr",
     "output_type": "stream",
     "text": [
      " 92%|█████████▏| 48044/52002 [13:51:25<3:44:08,  3.40s/it]"
     ]
    },
    {
     "name": "stdout",
     "output_type": "stream",
     "text": [
      "index out of range in self\n"
     ]
    },
    {
     "name": "stderr",
     "output_type": "stream",
     "text": [
      " 93%|█████████▎| 48159/52002 [13:53:16<55:27,  1.15it/s]  "
     ]
    },
    {
     "name": "stdout",
     "output_type": "stream",
     "text": [
      "index out of range in self\n"
     ]
    },
    {
     "name": "stderr",
     "output_type": "stream",
     "text": [
      " 93%|█████████▎| 48531/52002 [13:59:39<3:22:34,  3.50s/it]"
     ]
    },
    {
     "name": "stdout",
     "output_type": "stream",
     "text": [
      "index out of range in self\n"
     ]
    },
    {
     "name": "stderr",
     "output_type": "stream",
     "text": [
      " 94%|█████████▍| 48978/52002 [14:07:27<2:42:13,  3.22s/it]"
     ]
    },
    {
     "name": "stdout",
     "output_type": "stream",
     "text": [
      "index out of range in self\n"
     ]
    },
    {
     "name": "stderr",
     "output_type": "stream",
     "text": [
      " 94%|█████████▍| 49071/52002 [14:09:20<2:21:22,  2.89s/it]"
     ]
    },
    {
     "name": "stdout",
     "output_type": "stream",
     "text": [
      "index out of range in self\n"
     ]
    },
    {
     "name": "stderr",
     "output_type": "stream",
     "text": [
      " 95%|█████████▍| 49326/52002 [14:13:43<2:18:47,  3.11s/it]"
     ]
    },
    {
     "name": "stdout",
     "output_type": "stream",
     "text": [
      "index out of range in self\n"
     ]
    },
    {
     "name": "stderr",
     "output_type": "stream",
     "text": [
      " 95%|█████████▌| 49498/52002 [14:17:04<2:42:16,  3.89s/it]"
     ]
    },
    {
     "name": "stdout",
     "output_type": "stream",
     "text": [
      "index out of range in self\n"
     ]
    },
    {
     "name": "stderr",
     "output_type": "stream",
     "text": [
      " 95%|█████████▌| 49531/52002 [14:17:46<2:07:57,  3.11s/it]"
     ]
    },
    {
     "name": "stdout",
     "output_type": "stream",
     "text": [
      "index out of range in self\n"
     ]
    },
    {
     "name": "stderr",
     "output_type": "stream",
     "text": [
      " 95%|█████████▌| 49585/52002 [14:19:03<2:32:16,  3.78s/it]"
     ]
    },
    {
     "name": "stdout",
     "output_type": "stream",
     "text": [
      "index out of range in self\n"
     ]
    },
    {
     "name": "stderr",
     "output_type": "stream",
     "text": [
      " 95%|█████████▌| 49593/52002 [14:19:20<2:27:55,  3.68s/it]"
     ]
    },
    {
     "name": "stdout",
     "output_type": "stream",
     "text": [
      "index out of range in self\n"
     ]
    },
    {
     "name": "stderr",
     "output_type": "stream",
     "text": [
      " 95%|█████████▌| 49603/52002 [14:19:36<2:09:49,  3.25s/it]"
     ]
    },
    {
     "name": "stdout",
     "output_type": "stream",
     "text": [
      "index out of range in self\n"
     ]
    },
    {
     "name": "stderr",
     "output_type": "stream",
     "text": [
      " 96%|█████████▌| 49812/52002 [14:23:14<2:41:21,  4.42s/it]"
     ]
    },
    {
     "name": "stdout",
     "output_type": "stream",
     "text": [
      "index out of range in self\n"
     ]
    },
    {
     "name": "stderr",
     "output_type": "stream",
     "text": [
      " 96%|█████████▋| 50127/52002 [14:29:12<1:46:20,  3.40s/it]"
     ]
    },
    {
     "name": "stdout",
     "output_type": "stream",
     "text": [
      "index out of range in self\n"
     ]
    },
    {
     "name": "stderr",
     "output_type": "stream",
     "text": [
      " 96%|█████████▋| 50132/52002 [14:29:25<2:00:13,  3.86s/it]"
     ]
    },
    {
     "name": "stdout",
     "output_type": "stream",
     "text": [
      "index out of range in self\n"
     ]
    },
    {
     "name": "stderr",
     "output_type": "stream",
     "text": [
      " 97%|█████████▋| 50450/52002 [14:35:19<1:33:04,  3.60s/it]"
     ]
    },
    {
     "name": "stdout",
     "output_type": "stream",
     "text": [
      "index out of range in self\n"
     ]
    },
    {
     "name": "stderr",
     "output_type": "stream",
     "text": [
      " 97%|█████████▋| 50586/52002 [14:37:48<1:17:18,  3.28s/it]"
     ]
    },
    {
     "name": "stdout",
     "output_type": "stream",
     "text": [
      "index out of range in self\n"
     ]
    },
    {
     "name": "stderr",
     "output_type": "stream",
     "text": [
      " 97%|█████████▋| 50667/52002 [14:39:58<1:39:45,  4.48s/it]"
     ]
    },
    {
     "name": "stdout",
     "output_type": "stream",
     "text": [
      "index out of range in self\n"
     ]
    },
    {
     "name": "stderr",
     "output_type": "stream",
     "text": [
      " 98%|█████████▊| 50988/52002 [14:45:32<1:00:41,  3.59s/it]"
     ]
    },
    {
     "name": "stdout",
     "output_type": "stream",
     "text": [
      "index out of range in self\n"
     ]
    },
    {
     "name": "stderr",
     "output_type": "stream",
     "text": [
      " 99%|█████████▉| 51429/52002 [14:53:50<32:56,  3.45s/it]  "
     ]
    },
    {
     "name": "stdout",
     "output_type": "stream",
     "text": [
      "index out of range in self\n"
     ]
    },
    {
     "name": "stderr",
     "output_type": "stream",
     "text": [
      "100%|██████████| 52002/52002 [15:04:40<00:00,  1.04s/it]\n"
     ]
    }
   ],
   "source": [
    "alpaca_polish_data = []\n",
    "for conversation in tqdm(alpaca_original_data):\n",
    "    conv_pl = dict()\n",
    "    \n",
    "    try:\n",
    "        if any(conversation[\"input\"]):\n",
    "    \n",
    "            conv_inst = conversation[\"instruction\"]\n",
    "            conv_input = conversation[\"input\"]\n",
    "            conv_output = conversation[\"output\"]\n",
    "\n",
    "            \n",
    "    \n",
    "            conv_pl[\"instruction\"] = translator(conv_inst)[0][\"translation_text\"]\n",
    "            conv_pl[\"input\"] = translator(conv_input)[0][\"translation_text\"]\n",
    "            conv_pl[\"output\"] = translator(conv_output)[0][\"translation_text\"]\n",
    "        else:\n",
    "            conv_inst = conversation[\"instruction\"]\n",
    "            conv_output = conversation[\"output\"]\n",
    "\n",
    "            conv_pl[\"instruction\"] = translator(conv_inst)[0][\"translation_text\"]\n",
    "            conv_pl[\"input\"] = \"\"\n",
    "            conv_pl[\"output\"] = translator(conv_output)[0][\"translation_text\"]\n",
    "    except Exception as e:\n",
    "         print(e)\n",
    "    alpaca_polish_data.append(conv_pl)"
   ]
  },
  {
   "cell_type": "code",
   "execution_count": 35,
   "metadata": {},
   "outputs": [
    {
     "name": "stderr",
     "output_type": "stream",
     "text": [
      "100%|██████████| 52002/52002 [00:00<00:00, 2814750.44it/s]"
     ]
    },
    {
     "name": "stdout",
     "output_type": "stream",
     "text": [
      "{'instruction': 'Stwórz tabelę ilustrującą wyniki ankiety.', 'input': 'W badaniu poproszono ludzi o dokonanie oceny nowej strony internetowej w skali 1-5, przy czym 1 jest biedny, a 5 jest doskonały.'}\n",
      "{'instruction': 'Stwórz nowy profil na Twitterze dla lekarza.', 'input': ''}\n",
      "{'instruction': 'Utwórz wykres pokazujący następujące dane.', 'input': 'Czas trwania snu w godzinach: Osoba A: 6 Osoba B: 7 Osoba C: 8'}\n",
      "{'instruction': 'Stwórz stół z dziesięciu najbogatszych ludzi na świecie.', 'input': ''}\n",
      "{'instruction': 'Formatować i organizować następujące nieustrukturyzowane informacje tekstowe do tabeli.', 'input': 'Imię i nazwisko: Peter Wiek: 43 Płeć: Mężczyzna Zawód: Doctor'}\n",
      "{'instruction': 'Tworzenie wykresu Gantta pokazującego zadania i ich linie czasowe.', 'input': 'Zadanie: Tworzenie strony internetowej, Budowanie aplikacji mobilnej, Wydanie oświadczenia prasowego'}\n",
      "{'instruction': 'Napisz algorytm do implementacji drzewa wyszukiwania binarnego.', 'input': ''}\n",
      "{'instruction': 'Narysuj drzewo genealogiczne na podstawie podanych imion.', 'input': 'John, Martha, William, Robert'}\n",
      "{'instruction': 'Reprezentuj następujące dane w wykresie paskowym', 'input': 'Ilość smaków lodów w sklepie: 6, 8, 10, 7'}\n",
      "{'instruction': 'Napisz artykuł o 500 słowach na temat \"Skuteczne umiejętności komunikacyjne\".', 'input': ''}\n",
      "{'instruction': 'Stwórz łamigłówkę wyszukiwania słów, aby ćwiczyć słownictwo o świętach', 'input': ''}\n",
      "{'instruction': 'Generowanie zestawu 100 słów dla baby shower word search', 'input': ''}\n",
      "{'instruction': 'Generowanie raportu podsumowującego informacje podane w poniższej tabeli.'}\n",
      "{'instruction': 'Tworzenie wykresu, który porównuje korzyści i wady korzystania z różnych internetowych systemów uczenia się', 'input': ''}\n",
      "{'instruction': 'Utwórz standardową stronę HTML ze stołem i dwoma przyciskami.', 'input': ''}\n",
      "{'instruction': 'Biorąc pod uwagę zestaw pierwiastków chemicznych, wypuść symbol i liczbę atomową każdego pierwiastka.', 'input': 'Tlen, hel, węgiel'}\n",
      "{'instruction': \"Stwórz kartę bingo ze słowami 'sleep', 'bath', 'movies' i 'read'.\", 'input': ''}\n",
      "{'instruction': 'Utwórz wykres, aby porównać funkcje dwóch programów e-mail.', 'input': 'Gmail i Outlook.'}\n",
      "{'instruction': 'Narysuj tabelę HTML, aby wyświetlić listę pięciu języków i odpowiadających im krajów.', 'input': ''}\n",
      "{'instruction': 'Generowanie wykresu kryteriów do oceny różnych rodzajów słuchawek.', 'input': 'Brak wejścia'}\n",
      "{'instruction': 'Napisz przykładowy tweet na podstawie słowa kluczowego'}\n",
      "{'instruction': 'Utwórz kod HTML, aby wygenerować tabelę z 5 kolumnami i 7 wierszami.', 'input': ''}\n",
      "{'instruction': 'Generowanie 10 annotowanej bibliografii podanej poniżej.', 'input': 'Wpływ zmian klimatycznych na zdrowie ludzkie'}\n",
      "{'instruction': 'Biorąc pod uwagę zestaw danych, napisz program, który liczy liczbę instancji każdej etykiety.', 'input': \"Zestaw danych: ['puppy', 'dog', 'kitten', 'cat', 'puppy', 'dog', 'fish', 'cat']\"}\n",
      "{'instruction': 'Wygenerować argumentacyjny esej o znaczeniu zdrowego odżywiania.', 'input': ''}\n",
      "{'instruction': 'Generowanie przykładowego szablonu formularza do zbierania informacji zwrotnych od użytkowników.', 'input': ''}\n",
      "{'instruction': 'Zorganizować następujące elementy zgodnie z ich wyglądem w układzie okresowym.', 'input': 'Azot, sodu, tlen'}\n",
      "{'instruction': 'Skompiluj dane do wykresu.', 'input': 'Dane: populacja Francji od 1975 r. do 2020 r.'}\n",
      "{'instruction': 'Zrób stół z 10 najszybszych zwierząt', 'input': ''}\n",
      "{'instruction': 'Zaprojektuj ankietę, aby zmierzyć zadowolenie klienta z nowego sklepu internetowego.', 'input': ''}\n",
      "{'instruction': 'Parafrazując następujące zdanie w sposób, który przekazuje to samo znaczenie.'}\n",
      "{'instruction': 'Podsumowanie artykułu na temat nagrody Nobla za chemię 2020.', 'input': 'Nagroda Nobla za Chemię 2020 została wspólnie przyznana Emmanuelle Charpentier i Jennifer Doudna za ich pracę nad metodą tworzenia genów znaną jako system CRISPR-Cas9.'}\n",
      "{'instruction': 'Narysuj tabelę zawierającą następujące kategorie.', 'input': '- Rok - Temperatura - Pokrywa lodowa Arktyki'}\n",
      "{'instruction': 'Podsumowanie informacji zawartych w tej tabeli'}\n",
      "{'instruction': 'Utwórz wykres, aby porównać ceny przedmiotów w dwóch sklepach.', 'input': 'Sklep A, Apple - $2.50, Banana - $1.50, Orange - $3.00 Store B, Apple - $3.00, Banana - $1.00, Orange - $2.50'}\n",
      "{'instruction': 'Narysuj tabelę do porównania skuteczności 5 różnych zabiegów', 'input': ''}\n",
      "{'instruction': \"Zmień następujące zdanie na kod Morse'a.\", 'input': 'Uwielbiam programowanie.'}\n",
      "{'instruction': 'Napisz bibliotekę C++, która implementuje powiązaną listę', 'input': ''}\n",
      "{'instruction': 'Wygenerować 500-słowową historię o człowieku, który znajduje się w nieznanym mieście.', 'input': ''}\n",
      "{'instruction': 'Biorąc pod uwagę poniższą tabelę, sklasyfikować każde zdanie w zależności od tego, czy jest to definicja, fakt, czy opinia.'}\n",
      "{'instruction': 'Przeanalizuj dane w poniższej tabeli i zaproponuj strategię biznesową.'}\n",
      "{'instruction': 'Zbierz 5 istotnych źródeł, aby poprzeć argument.', 'input': 'Argument: Zwiększone wykorzystanie robotów w produkcji spowoduje wydajniejszą produkcję.'}\n",
      "{'instruction': 'Generowanie tabeli częstotliwości dla następującego tekstu.', 'input': 'Szybki brązowy lis skacze nad leniwym psem.'}\n",
      "{'instruction': 'Znajdź równoległobok narysowany poniżej wskazówek.', 'input': 'Wskazówki: Przeciwległe boki są równoległe i równe. Przyległe boki nie są równoległe'}\n",
      "{'instruction': 'Utwórz arkusz kalkulacyjny w arkuszach Google z 4 kolumnami i 4 wierszami.', 'input': ''}\n",
      "{'instruction': 'Opracowanie tabeli dotyczącej wzrostu liczby ludności UE w latach 2000–2021.', 'input': ''}\n",
      "{'instruction': 'Stworzyć tabelę danych, która zawiera listę pięciu spółek zajmujących się sztuczną inteligencją i ich lat założycielskich.', 'input': ''}\n",
      "{'instruction': 'Stwórz tabelę danych z pięcioma typami drzew i stanami, w których są one najczęstsze.', 'input': ''}\n",
      "{'instruction': 'Utwórz tabelę porównującą różne telefony komórkowe.', 'input': ''}\n",
      "{'instruction': 'Generowanie następującego wyjścia dla danego wejścia. Wyjście powinno być zorganizowane jako tabela.', 'input': 'Kraj: Kanada, Meksyk, Chiny'}\n",
      "{'instruction': 'Skompiluj listę wszystkich parków narodowych w Stanach Zjednoczonych.', 'input': ''}\n",
      "{'instruction': 'Stworzenie wykresu pokazującego dane użytkowników internetu w podziale na kraje.', 'input': 'Kraj: Chiny, Indie, USA, Brazylia, Hiszpania Użytkownicy Internetu (w milionach): 854.8, 504.0, 302.5, 142.5, 45.5'}\n",
      "{'instruction': 'Napisz artykuł 500 słów na temat korzyści z żywności ekologicznej.', 'input': ''}\n",
      "{'instruction': 'Zaprojektuj kwestionariusz w celu oceny satysfakcji klienta ze sklepu internetowego.', 'input': ''}\n",
      "{'instruction': 'Stwórz oś czasu, aby zilustrować wydarzenia z poniższej historii.', 'input': 'Dawno, dawno temu, była księżniczka, która mieszkała w zamku na wsi. Poznała przystojnego księcia, który wyznał jej miłość i poprosił ją o rękę.'}\n",
      "{'instruction': 'Konwertuj tę tabelę na JSON.'}\n",
      "{'instruction': 'Utwórz algorytm, aby sortować tablicę liczb całkowitych od najmniejszych do największych.', 'input': '[3, 8, 5, 4, 1, 9]'}\n",
      "{'instruction': 'Generowanie wykresu do podsumowania następujących danych', 'input': 'Książki sprzedane – 10.000 Książki zwrócone – 2,000 Książki na rękę – 8,000'}\n",
      "{'instruction': 'Zaprojektuj algorytm do znalezienia najdłuższych wspólnych podsekwencji między dwoma ciągami', 'input': \"s1 = 'ABCDGH' s2 = 'AEDFHR'\"}\n",
      "{'instruction': 'Narysuj przykładowy formularz internetowy, aby ubiegać się o pracę.', 'input': ''}\n",
      "{'instruction': 'Utwórz raport o danym temacie.'}\n",
      "{'instruction': 'Opisz możliwą przyczynę danego objawu.'}\n",
      "{'instruction': 'Napisz artykuł opisujący nową technologię.', 'input': 'Nowa technologia nazywa się AI-Powered Image Recognition.'}\n",
      "{'instruction': 'Generowanie liczby atomowej i symbolu pięciu pierwiastków chemicznych', 'input': ''}\n",
      "{'instruction': 'Wyjaśnij, jak obliczany jest indeks Gini.', 'input': ''}\n",
      "{'instruction': 'Tworzenie zbioru danych z dziesięciu największych miast w Stanach Zjednoczonych', 'input': ''}\n",
      "{'instruction': 'Napisz cztery artykuły na temat kryptowaluty z minimum 300 słów każdy.', 'input': ''}\n",
      "{'instruction': 'Aktualizuj informacje z tabeli za pomocą nowego zbioru danych.'}\n",
      "{'instruction': 'Biorąc pod uwagę strunę, napisz program, aby znaleźć wszystkie permutacje tej struny.', 'input': 'abc'}\n",
      "{'instruction': 'Generowanie wykresu 5 najlepszych miast na podstawie liczby kin', 'input': 'Tallahassee: 19 Miami: 21 Orlando: 33 Tampa: 43 Jacksonville: 17'}\n",
      "{'instruction': 'Biorąc pod uwagę dwa podobne produkty, stworzyć tabelę porównawczą, która podkreśla różnice między nimi.', 'input': 'Produkt A: Lenovo Laptop Produkt B: MacBook Pro'}\n",
      "{'instruction': 'Stwórz listę pomysłów na działania na spotkanie biznesowe.', 'input': 'Brak wejściówek.'}\n",
      "{'instruction': 'Opracowanie odpowiedniego tytułu dla poniższego dokumentu.'}\n",
      "{'instruction': 'Utwórz tabelę, która podsumowuje różne rodzaje paradygmatów języka programowania.', 'input': ''}\n",
      "{'instruction': 'Przeanalizuj schemat rymów wiersza i zapewnij wzór rymów.', 'input': 'Kot biegł do drzewa, aby znaleźć pszczołę miodną. Ukradł plastr miodu i odleciał z domu.'}\n",
      "{'instruction': 'Narysuj linię czasową znaczących zdarzeń w danym polu.', 'input': 'pole: Historia Ameryki'}\n",
      "{'instruction': 'Napisz historię horroru z 1850 roku.', 'input': ''}\n",
      "{'instruction': 'Utwórz zapytanie SQL, które łączy dwie tabele.'}\n",
      "{'instruction': 'Tworzenie listy kreatywnych prezentów dla dzieci w wieku od 5 do 8 lat', 'input': ''}\n",
      "{'instruction': 'Zidentyfikuj trzy rodzaje pomocy rządowej, które mogą pomóc startupom w okresie spowolnienia gospodarczego.', 'input': ''}\n",
      "{'instruction': 'Stworzenie wykresu pokazującego stopę zatrudnienia w Stanach Zjednoczonych w latach 2019–2020', 'input': ''}\n",
      "{'instruction': 'Skomponuj rap o niedawnym wydarzeniu historycznym.', 'input': 'Wydarzenie: Bob Dylan laureat Nagrody Nobla w literaturze'}\n",
      "{'instruction': 'Stworzenie arkusza kalkulacyjnego następujących danych dotyczących sprzedaży', 'input': 'Produkt: Piwo Ilość sztuk Sprzedanych: 30 Przychody Generowane: $420'}\n",
      "{'instruction': 'Zaprojektuj program, który pobiera numery od 0 do 9,999 i wydrukuj znaną wersję numeru.', 'input': ''}\n",
      "{'instruction': 'Powiązać następujące zwierzęta z ich naukową nazwą.', 'input': 'Zwierzę: Lew, Żaba, Monarch motyl, Kangaroo'}\n",
      "{'instruction': 'Zaklasyfikuj każdą z następujących restauracji jako wewnętrzną lub zewnętrzną.', 'input': 'Wyposażenie restauracji: patio, jadalnia, atrium, bar'}\n",
      "{'instruction': 'Utwórz tabelę mnożenia od 2 do 10.', 'input': ''}\n",
      "{'instruction': 'Należy określić rodzaj urządzenia użytego do wytworzenia następującego dźwięku.'}\n",
      "{'instruction': 'Stworzenie ankiety o zadowoleniu klienta z danego produktu.', 'input': \"Książki Harry'ego Pottera\"}\n",
      "{'instruction': 'Skomponuj tabelę 4 elementów z podanymi właściwościami.', 'input': 'Numer, symbol, nazwa i masa atomowa'}\n",
      "{'instruction': 'Ocena danych ilościowych przedstawionych w niniejszej tabeli'}\n",
      "{'instruction': 'Rozwiń ten pomysł, aby stworzyć historię.', 'input': 'Książę zapada w głęboki sen'}\n",
      "{'instruction': 'Utwórz klasę w Javie, która implementuje strukturę danych.', 'input': ''}\n",
      "{'instruction': 'Narysuj tabelę mnożenia z 5 wierszami i 6 kolumnami.', 'input': ''}\n",
      "{'instruction': 'Utwórz wykres do wizualizacji podanych danych.', 'input': 'Liczba samochodów produkowanych w USA w 2019 r.: 11 mln Liczba samochodów produkowanych w USA w 2020 r.: 8 mln'}\n",
      "{'instruction': 'Generować tabelę angielski czasownik koniugacje dla czasownika \"mówić\" w czasie przeszłym.', 'input': ''}\n",
      "{'instruction': 'Wygeneruj 500 słów o historii skoncentrowanej na robocie kota', 'input': 'John kochał koty i marzył o jednym, ale jego rodzina nie miała środków, aby zająć się zwierzęciem. Pewnego dnia, John usłyszał o nowych kotach robotycznych i postanowił zaoszczędzić swoje pieniądze na jeden.'}\n",
      "{'instruction': 'Generowanie prawidłowej tabeli znaczników dla następujących danych.'}\n",
      "{'instruction': 'Wykorzystując tablicę kanbanów poniżej, opracuj linię czasową, kiedy zadania muszą być zakończone.'}\n",
      "{'instruction': 'Utwórz tabelę z trzema kolumnami.', 'input': ''}\n",
      "{'instruction': 'Napisz esej omawiający znaczenie komunikacji w związku', 'input': ''}\n",
      "{'instruction': 'Zidentyfikuj poprawną odpowiedź na pytanie mnożenia.', 'input': '4 x 5 = A) 10 B) 20 C) 30 D) 40'}\n",
      "{'instruction': 'Napisz funkcję w Pythonie, która ocenia dane wyrażenie.', 'input': ''}\n",
      "{'instruction': 'Należy podać odpowiednie słowa dla poniższej tabeli.'}\n",
      "{'instruction': 'Wypełnij luki w historii używając różnych odpowiednich przymiotników.'}\n",
      "{'instruction': 'Generowanie kreatywnej historii, która ma co najmniej 500 słów.', 'input': ''}\n",
      "{'instruction': 'Narysuj poprawny kod C++ do wydrukowania pierwszych 10 numerów sekwencji Fibonacciego', 'input': ''}\n",
      "{'instruction': 'Zaprojektuj szablon faktury za pomocą HTML.', 'input': ''}\n",
      "{'instruction': 'Napisz 500-słowową historię w horrorze.', 'input': ''}\n",
      "{'instruction': 'Zidentyfikuj najczęstszy objaw w danym stanie.'}\n",
      "{'instruction': 'Zapisz kod C++ do obliczenia sumy następujących liczb:', 'input': '2, 4, 6'}\n",
      "{'instruction': 'Komentarz do zmian w danym zbiorze danych.'}\n",
      "{'instruction': 'Skomponuj tabelę z dwoma wierszami i trzema kolumnami.', 'input': ''}\n",
      "{'instruction': 'Narysuj wizualną linię czasową danych wydarzeń historycznych.', 'input': 'Wydarzenia: Wojna domowa, Reformacja, Rewolucja przemysłowa, I wojna światowa'}\n",
      "{'instruction': 'Wygeneruj esej o co najmniej 500 słowach, które przemawiają za regulacją sztucznej inteligencji.', 'input': ''}\n",
      "{'instruction': 'Generowanie programu c++, aby wydrukować kwadrat liczby.', 'input': ''}\n",
      "{'instruction': 'Biorąc pod uwagę dwie następujące liczby, zdecydować, który z nich jest bliżej okręgu.'}\n",
      "{'instruction': 'Wyjście tabeli mnożenia dla liczb 2 do 10.', 'input': ''}\n",
      "{'instruction': 'Utwórz tabelę wartości odżywczej dla następujących produktów żywnościowych.', 'input': 'Truskawki i poziomki'}\n",
      "{'instruction': 'Zaprojektuj układ strony internetowej odpowiedni do biblioteki online.', 'input': ''}\n",
      "{'instruction': 'Wstaw dane do tabeli.', 'input': 'Chiny  437.11 Rosja  463.67 Kanada  29.6'}\n",
      "{'instruction': 'Utwórz tabelę, która porównuje i kontrastuje z dwoma wybranymi przez Ciebie krajami', 'input': ''}\n",
      "{'instruction': 'Utwórz tabelę danych, aby podzielić następujące elementy.', 'input': 'Pizza, Hamburger, Hotdog'}\n",
      "{'instruction': 'Tworzenie wykresu, który porównuje zalety i wady pracy z domu.', 'input': ''}\n",
      "{'instruction': 'Aktualizuj poniższą tabelę z nową kolumną'}\n",
      "{'instruction': 'Utwórz funkcję, która może skompresować ciąg tekstu.', 'input': 'Ciąg tekstu: \"Jest to ciąg losowy. Nie ma innego celu niż testowanie tej funkcji.\"'}\n",
      "{'instruction': 'Skomponuj krótką piosenkę 8 barów, które podążają za konkretnym kluczem.'}\n",
      "{'instruction': 'Napisz kilka linijek kodu, aby utworzyć podstawowy kalkulator w Pythonie.', 'input': ''}\n",
      "{'instruction': 'Stwórz wykres porównawczy, aby porównać jabłka i pomarańcze.', 'input': ''}\n",
      "{'instruction': 'Napisz krótką historię, w której bohater spotyka magiczne stworzenie.', 'input': ''}\n",
      "{'instruction': 'Narysuj monolog dla Hamleta w stylu Szekspira.', 'input': ''}\n",
      "{'instruction': 'Napisz tekst do ośmioliterowego rapu o komputerach', 'input': ''}\n",
      "{'instruction': 'Napisz przekonujący esej o tym, dlaczego ludzie powinni czytać książki.', 'input': ''}\n",
      "{'instruction': 'Narysuj tabelę danych pokazującą różnice między keyneską a klasyczną ekonomią.', 'input': ''}\n",
      "{'instruction': 'Zorganizuj podane dane w formie tabelarycznej.', 'input': 'Jabłko, Owoce, Banan Tart, Owoce, Słodkie truskawki, Owoce, Słodkie łososie, Ryby, Bony Tuna, Ryby, Flaky'}\n",
      "{'instruction': 'Stwórz przepis na pyszne i zdrowe wegańskie trzydaniowy posiłek.', 'input': ''}\n",
      "{'instruction': 'Narysuj 3-kolumnową tabelę z numerami od 1 do 10.', 'input': ''}\n",
      "{'instruction': 'Utwórz tabelę danych z krajów położonych w Oceanii', 'input': ''}\n",
      "{'instruction': 'Zbuduj drzewo decyzji, aby sklasyfikować następujące dane.'}\n",
      "{'instruction': 'Napisz krótki esej o tym, jak prywatność danych wpływa na społeczeństwo.', 'input': ''}\n",
      "{'instruction': 'Utwórz listę porad dla pomysłów pasywnego dochodu.', 'input': '<bez wprowadzania >.'}\n",
      "{'instruction': 'Stwórz piosenkę z 10-15 wierszami o spokojnym dniu w parku.', 'input': ''}\n",
      "{'instruction': 'Generowanie Sudoku puzzle jednym rozwiązaniem.', 'input': ''}\n",
      "{'instruction': 'Zidentyfikować rodzaj każdego słowa w zdaniu; utworzyć tabelę zawierającą słowo, jego część mowy i jego definicję.', 'input': 'Rząd ogłosił nowe środki zamknięcia.'}\n",
      "{'instruction': 'Generowanie formularza logowania/ logowania', 'input': ''}\n",
      "{'instruction': 'Opracowanie ankiety w celu zebrania informacji zwrotnych od klientów', 'input': ''}\n",
      "{'instruction': 'Dodaj 4 elementy do tabeli.'}\n",
      "{'instruction': 'Podziel podane równanie za pomocą długiego podziału.', 'input': '(2x+7)(4x+5)'}\n",
      "{'instruction': 'Napisz przekonujący esej na temat eksperymentów na zwierzętach.', 'input': ''}\n",
      "{'instruction': 'Stwórz wiersz z 5 wierszy, każdy z 8 wierszy każdy, o mieście skyline.', 'input': ''}\n",
      "{'instruction': 'Narysuj tabelę krajów Europy i odpowiadających im stolic.', 'input': ''}\n",
      "{'instruction': 'Wyjmij przymiotniki z zdania.', 'input': 'John kupił jasny niebieski samochód na urodziny.'}\n",
      "{'instruction': 'Formatuj te dane jako wykres.'}\n",
      "{'instruction': 'Utwórz wyjście sformatowane jako tabela CSV przy użyciu następujących danych'}\n",
      "{'instruction': 'Tworzenie tygodniowego planu diety, który obejmuje posiłki z kalorycznym spożyciem 2000', 'input': ''}\n",
      "{'instruction': 'Stwórz stół, który porównuje i kontrastuje cechy dębu i sosny.', 'input': ''}\n",
      "{'instruction': 'Usuń tekst pomiędzy dwoma czerwonymi strzałkami i zamień go na coś bardziej kreatywnego.'}\n",
      "{'instruction': 'Wyprodukuj annotowaną bibliografię dla dostarczonego papieru.', 'input': 'Dostarczony dokument jest artykułem o wpływie mediów społecznościowych na zdrowie psychiczne, zatytułowanym „badanie wpływu mediów społecznościowych na zdrowie psychiczne”.'}\n",
      "{'instruction': 'Generowanie przykładowej tabeli HTML.', 'input': ''}\n",
      "{'instruction': 'Formatuj poniższy tekst do tabeli html.', 'input': 'Tytuł tabeli  Col1  Col2 Ahmed  10  15 Bob  20  25 Samantha  30  35 John  40  45'}\n",
      "{'instruction': 'Utwórz stronę profilu dla osób na danej liście i sformatuj ją zgodnie z podanym szablonem html.'}\n",
      "{'instruction': 'Użyj algorytmu sąsiadów K-nearest do klasyfikacji punktów danych.', 'input': 'Punkty danych: [1,2],[2,4],[2,3],[3,5],[3,1],[5,5],[5,3],[6,1],[6,2],[6,2],[6,4]'}\n",
      "{'instruction': 'Napisz esej porównujący dwa wiersze.', 'input': '\"Ruda, Czerwona Róża\" Roberta Burnsa i \"Nowy Kolos\" Emmy Lazarus'}\n",
      "{'instruction': 'Lista Stanów Zjednoczonych i stolic alfabetycznie.', 'input': 'Brak wejścia'}\n",
      "{'instruction': 'Zaprojektuj stół do przechowywania informacji o zestawach kwiatowych.', 'input': 'Zestawy kwiatowe mają 6 elementów (nazwa, obraz, typ, kolor kwiatu, okazja i cena).'}\n",
      "{'instruction': 'Utwórz tabelę z 10 najlepszych krajów o największej gęstości zaludnienia.', 'input': ''}\n",
      "{'instruction': 'Generowanie strony HTML, która oblicza obszar okręgu z danego promienia.', 'input': ''}\n",
      "{'instruction': 'Przewiduj przyszłość danej technologii w ciągu najbliższych 5 lat.'}\n",
      "{'instruction': 'Analizuj dane i stwórz trójwymiarową tabelę.', 'input': 'Dane: Jabłko: 30, Banan: 15, Kiwi: 25.'}\n",
      "{'instruction': 'Wstaw następujące dane do arkusza kalkulacyjnego.', 'input': 'Produkt: iPhone 12, Cena: $999'}\n",
      "{'instruction': 'Utwórz tabelę określającą miesięczne ceny czynszu pięciu różnych miast.', 'input': ''}\n",
      "{'instruction': 'Stwórz wykres przedstawiający plusy i minusy wynajmu domu kontra kupno domu.', 'input': ''}\n",
      "{'instruction': 'Tworzenie przykładowego arkusza kalkulacyjnego, który wyświetla informacje finansowe.', 'input': 'Arkusz kalkulacyjny powinien zawierać podsumowanie dochodów i wydatków dla małego przedsiębiorstwa za styczeń.'}\n",
      "{'instruction': 'Utwórz wykres, aby porównać i kontrastować dwa rodzaje statków kosmicznych.', 'input': 'Maned vs Unmanned'}\n",
      "{'instruction': 'Zrób tabelę porównującą i kontrastującą dwie główne strony debaty.', 'input': 'Pro-Life vs. Pro-Choice'}\n",
      "{'instruction': 'Wygeneruj krótką historię fikcji o długości poniżej 500 słów.', 'input': ''}\n",
      "{'instruction': 'Napisz 500 word report podsumowujący artykuł: \"Impact of Brexit to the United Kingdom\".', 'input': ''}\n",
      "{'instruction': 'Wyodrębnić nazwy znaków i związanych z nimi książek z tekstu i zorganizować je w tabeli.', 'input': 'Harry Potter był w pierwszej książce napisanej przez JK Rowling. Hermione Granger była w drugiej książce, a Ron Weasley w trzeciej.'}\n",
      "{'instruction': 'Utwórz tabelę danych, aby porównać średnią cenę domu w Arizonie i Nebrasce.', 'input': ''}\n",
      "{'instruction': 'Uaktualnienie harmonogramu z odpowiednimi terminami w celu zademonstrowania zakończenia projektu.', 'input': '[Data rozpoczęcia projektu] - [Data zakończenia projektu] ----------------'}\n",
      "{'instruction': 'Zakwalifikuj następujące stworzenie jako ssaka lub gady.'}\n",
      "{'instruction': 'Stworzenie wykresu pokazującego, jak ceny rynkowe zmieniają się z biegiem czasu.', 'input': 'Ceny rynkowe kukurydzy, pszenicy i soi w dniach 1 i 15 kwietnia'}\n",
      "{'instruction': 'Podaj tekst, który kończy zdanie', 'input': 'Byłem wyczerpany, bo chodziłem dla ______'}\n",
      "{'instruction': 'Generowanie tabeli pokazującej porównanie technik uczenia maszynowego i głębokiego uczenia się.', 'input': ''}\n",
      "{'instruction': 'Stworzenie arkusza kalkulacyjnego budżetu z wykorzystaniem danych finansowych.', 'input': 'Dochód = $3,000; Wynajem = $1,500; Narzędzia = $200; Groceries = $500; Rozrywka = $150'}\n",
      "{'instruction': 'Narysuj zestaw danych szkoleniowych dla zadania klasyfikacji.', 'input': 'Zadanie klasyfikacji: Zidentyfikować wszystkie kraje na świecie z ludnością 1 milion lub więcej.'}\n",
      "{'instruction': 'Tworzenie biznesplanu dla aplikacji mobilnej, która zapewnia usługi edukacyjne', 'input': ''}\n",
      "{'instruction': 'Zaprezentuj te informacje w wykresie.', 'input': 'Średnie temperatury w USA w lecie'}\n",
      "{'instruction': 'Podsumowanie danych w poniższej tabeli w jednym zdaniu.'}\n",
      "{'instruction': 'Utwórz siatkę łańcuchową z podanym wejściem.', 'input': 'XOXXOOXX'}\n",
      "{'instruction': 'Biorąc pod uwagę poniższą tabelę, wygenerować wykres kreskowy, który pokazuje całkowitą sprzedaż każdego produktu.'}\n",
      "{'instruction': 'Biorąc pod uwagę poniższą tabelę, napisz zapytanie, aby znaleźć całkowite dochody z pozycji kategorii A.'}\n",
      "{'instruction': 'Napisz piosenkę opartą na podanych tekstach.', 'input': 'Wiem, że ciężko jest żyć dalej, ale wierzę w nas.'}\n",
      "{'instruction': 'Biorąc pod uwagę następującą tablicę, wydrukuj maksymalną wartość w porządku malejącym [4, 8, 0, 9, 15]', 'input': '[4, 8, 0, 9, 15]'}\n",
      "{}\n",
      "{'instruction': 'Utwórz stronę HTML, która wyświetla tabelę z informacjami o pracownikach.', 'input': 'Imię  Rola  Płaca John Smith  Manager  $70000 Anna Jones  Developer  $50000 Mark Wilson  Projektant  $55000'}\n",
      "{'instruction': 'Narysuj stronę za pomocą HTML i CSS oraz zaprezentuj produkt.', 'input': ''}\n",
      "{'instruction': 'Tworzenie strony internetowej zawierającej szczegóły wydarzeń w Rewolucji Francuskiej.', 'input': ''}\n",
      "{'instruction': 'Pokaż przykład zbioru danych w następnym temacie', 'input': 'Rodzaje nowotworów'}\n",
      "{'instruction': 'Wyjaśnij powszechną pomyłkę w swoim temacie.', 'input': 'Temat: Wykorzystanie sztucznej inteligencji do zwiększenia ludzkich możliwości'}\n",
      "{'instruction': 'Weź następującą frazę i zasugeruj synonim.', 'input': 'Uzyskanie'}\n",
      "{'instruction': 'Zgodnie z podanymi instrukcjami, utwórz model arkusza kalkulacyjnego kostki 3D.', 'input': 'Dno powinno mieć dwie komórki szerokie, dwie duże, i przechodzi z A1 do B2.'}\n",
      "{'instruction': 'Zmień to zdanie w metaforę: \"Nocne niebo było kocem gwiazd\".', 'input': ''}\n",
      "{'instruction': 'Zaprojektuj stronę internetową z HTML i CSS.', 'input': 'Strona powinna mieć prosty rozdział zawierający tytuł, formularz i tabelę.'}\n",
      "{'instruction': 'Zaproponuj kilka kreatywnych sposobów na prezentację.', 'input': ''}\n",
      "{'instruction': 'Jakie dodatkowe informacje można podać do podanej tabeli?'}\n",
      "{'instruction': 'Narysuj tabliczkę mnożenia 3x3.', 'input': ''}\n",
      "{'instruction': 'Lista trzech receptur deserowych.', 'input': ''}\n",
      "{'instruction': 'Generować przepisy na wegańskie lasagne.', 'input': ''}\n",
      "{'instruction': 'Uporządkuj poniższą listę słów i umieść je w tabeli', 'input': 'trudne, wspaniałe, naładowane, stop'}\n",
      "{'instruction': 'Utwórz tabelę z pięcioma kolumnami i pięcioma wierszami', 'input': ''}\n",
      "{'instruction': 'Lista członków Organizacji Narodów Zjednoczonych', 'input': ''}\n",
      "{'instruction': 'Utwórz tabelę pokazującą ludność każdego kontynentu', 'input': ''}\n",
      "{'instruction': 'Tworzenie wykresu, który pokazuje dystrybucję użytkowników według wieku i płci.', 'input': 'Liczba użytkowników: 500 Wiek: 18-75 Płeć: Mężczyzna (60%), Kobieta (40%)'}\n",
      "{'instruction': 'Uzupełnij wykres o odpowiednie elementy.'}\n",
      "{'instruction': 'Tworzenie tabeli temperatury mapowania w Celsjusza do Fahrenheit', 'input': ''}\n",
      "{'instruction': 'Skomponuj esej analizujący rolę losu w powieści \"Alchemik\"', 'input': ''}\n",
      "{'instruction': 'Biorąc pod uwagę osobę, zaproponuj projekt twórczy.'}\n",
      "{'instruction': 'Utwórz stronę internetową, która wyświetla następujące dane jako wykres kreskowy.', 'input': 'Dane: {\"Styczeń\": 20, \"Luty\": 15, \"Marzec\": 10, \"Kwiecień\": 25, \"Maj\": 30 }'}\n",
      "{'instruction': 'Utwórz skrypt, który wyświetli podane dane jako wykres ciasta.', 'input': 'Dane: {\"Styczeń\": 20, \"Luty\": 15, \"Marzec\": 10, \"Kwiecień\": 25, \"Maj\": 30 }'}\n",
      "{'instruction': 'Narysuj tabelę, która podkreśla zalety i minusy sztucznej inteligencji.', 'input': ''}\n",
      "{'instruction': 'Napisz program Java do wdrożenia prostego kalkulatora.', 'input': ''}\n",
      "{'instruction': 'Znajdź maksymalną pojemność każdego pokoju na liście.', 'input': 'Pokój Nazwa: Sala konferencyjna A, Sala konferencyjna B, Sala konferencyjna C'}\n",
      "{'instruction': 'Znajdź powierzchnie następujących kształtów.', 'input': 'Kształt: kostka, prostokątny pryzmat, cylindr Długość krawędzi do kostki: 4 cm Długość, szerokość i wysokość do prostokątnego pryzmatu: 4 cm, 5 cm, 6 cm Promień i wysokość do cylindra: 5 cm i 10 cm'}\n",
      "{'instruction': 'Napisz esej porównujący podobieństwa i różnice między systemami edukacyjnymi Stanów Zjednoczonych i Chin.', 'input': ''}\n",
      "{'instruction': 'Generowanie wglądu z następujących danych i generowanie krótkiego podsumowania.'}\n",
      "{'instruction': 'Weź następujące dane JSON i przemień wyjście w tabelę.', 'input': '{ \"1\": {Nazwa\\': \"John\", \"Age\": 20 }, \"2\": {Nazwa: \"Jane\", \"Age\": 25 }, \"3\": {Nazwa: \"Nancy\", \"Age\": 30 }, \"4\": {Nazwa: \"Alex\", \"Age\": 35 } }'}\n",
      "{'instruction': 'Utwórz zestaw danych, który klasyfikuje różne rodzaje owoców.', 'input': ''}\n",
      "{'instruction': 'Napisz kod C do oceny równania kwadratowego.', 'input': ''}\n",
      "229\n"
     ]
    },
    {
     "name": "stderr",
     "output_type": "stream",
     "text": [
      "\n"
     ]
    }
   ],
   "source": [
    "verified_alpaca_data = []\n",
    "i = 0\n",
    "for row in tqdm(alpaca_polish_data):\n",
    "    if row.get(\"instruction\") and row.get(\"output\"):\n",
    "        verified_alpaca_data.append(row)\n",
    "    else:\n",
    "        print(row)\n",
    "        i += 1\n",
    "print(i)"
   ]
  },
  {
   "cell_type": "code",
   "execution_count": 38,
   "metadata": {},
   "outputs": [],
   "source": [
    "len(verified_alpaca_data)\n",
    "json.dump(verified_alpaca_data, open(\"data/alpaca_data_pl_verified.json\", \"w\"))"
   ]
  }
 ],
 "metadata": {
  "kernelspec": {
   "display_name": "torch",
   "language": "python",
   "name": "python3"
  },
  "language_info": {
   "codemirror_mode": {
    "name": "ipython",
    "version": 3
   },
   "file_extension": ".py",
   "mimetype": "text/x-python",
   "name": "python",
   "nbconvert_exporter": "python",
   "pygments_lexer": "ipython3",
   "version": "3.9.16"
  },
  "orig_nbformat": 4
 },
 "nbformat": 4,
 "nbformat_minor": 2
}
